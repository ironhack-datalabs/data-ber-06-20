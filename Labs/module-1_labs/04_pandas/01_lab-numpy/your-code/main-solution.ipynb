{
 "cells": [
  {
   "cell_type": "markdown",
   "metadata": {},
   "source": [
    "# Intrduction to NumPy\n",
    "\n",
    "\n",
    "#### 1. Import NumPy under the name np."
   ]
  },
  {
   "cell_type": "code",
   "execution_count": 1,
   "metadata": {
    "collapsed": true
   },
   "outputs": [],
   "source": [
    "# your code here\n",
    "import numpy as np"
   ]
  },
  {
   "cell_type": "markdown",
   "metadata": {},
   "source": [
    "#### 2. Print your NumPy version."
   ]
  },
  {
   "cell_type": "code",
   "execution_count": 5,
   "metadata": {},
   "outputs": [
    {
     "data": {
      "text/plain": [
       "'1.13.3'"
      ]
     },
     "execution_count": 5,
     "metadata": {},
     "output_type": "execute_result"
    }
   ],
   "source": [
    "# your code here\n",
    "np.version.version"
   ]
  },
  {
   "cell_type": "markdown",
   "metadata": {},
   "source": [
    "#### 3. Generate a 2x3x5 3-dimensional array with random values. Assign the array to variable *a*.\n",
    "**Challenge**: there are at least three easy ways that use numpy to generate random arrays. How many ways can you find?"
   ]
  },
  {
   "cell_type": "code",
   "execution_count": 7,
   "metadata": {},
   "outputs": [
    {
     "data": {
      "text/plain": [
       "array([[[0, 0, 6, 3, 8],\n",
       "        [6, 1, 3, 6, 2],\n",
       "        [9, 0, 0, 1, 3]],\n",
       "\n",
       "       [[2, 0, 7, 6, 5],\n",
       "        [5, 0, 4, 6, 5],\n",
       "        [1, 3, 8, 4, 4]]])"
      ]
     },
     "execution_count": 7,
     "metadata": {},
     "output_type": "execute_result"
    }
   ],
   "source": [
    "# Method 1\n",
    "a = np.random.randint(10, size = (2,3,5))"
   ]
  },
  {
   "cell_type": "code",
   "execution_count": 8,
   "metadata": {},
   "outputs": [
    {
     "data": {
      "text/plain": [
       "array([[[ 0.3549291 ,  0.89812227,  0.89786584,  0.43010079,  0.13756697],\n",
       "        [ 0.25256653,  0.92102923,  0.62178569,  0.00295169,  0.59147484],\n",
       "        [ 0.68537587,  0.39190549,  0.92508984,  0.73890109,  0.28613511]],\n",
       "\n",
       "       [[ 0.61371939,  0.52308946,  0.42633648,  0.63070103,  0.01471716],\n",
       "        [ 0.0849422 ,  0.07012839,  0.01995443,  0.43662528,  0.20265591],\n",
       "        [ 0.27239993,  0.98501037,  0.11382597,  0.95202461,  0.15717862]]])"
      ]
     },
     "execution_count": 8,
     "metadata": {},
     "output_type": "execute_result"
    }
   ],
   "source": [
    "# Method 2\n",
    "a = np.random.rand(2,3,5)"
   ]
  },
  {
   "cell_type": "code",
   "execution_count": 10,
   "metadata": {},
   "outputs": [
    {
     "data": {
      "text/plain": [
       "array([[[ 0.00453782,  0.47251152,  0.65513617,  0.89370211,  0.91464052],\n",
       "        [ 0.35606786,  0.68149792,  0.37211451,  0.2493357 ,  0.66608051],\n",
       "        [ 0.71459267,  0.68722356,  0.20916865,  0.98338451,  0.28154909]],\n",
       "\n",
       "       [[ 0.83752622,  0.12378486,  0.77380373,  0.43270332,  0.26392168],\n",
       "        [ 0.02528723,  0.5352501 ,  0.35521185,  0.05175587,  0.64898055],\n",
       "        [ 0.52616383,  0.94453068,  0.17055731,  0.15094225,  0.63495276]]])"
      ]
     },
     "execution_count": 10,
     "metadata": {},
     "output_type": "execute_result"
    }
   ],
   "source": [
    "# Method 3\n",
    "a = np.random.random((2,3,5))"
   ]
  },
  {
   "cell_type": "markdown",
   "metadata": {},
   "source": [
    "#### 4. Print *a*.\n"
   ]
  },
  {
   "cell_type": "code",
   "execution_count": 11,
   "metadata": {},
   "outputs": [
    {
     "name": "stdout",
     "output_type": "stream",
     "text": [
      "[[[ 0.00453782  0.47251152  0.65513617  0.89370211  0.91464052]\n",
      "  [ 0.35606786  0.68149792  0.37211451  0.2493357   0.66608051]\n",
      "  [ 0.71459267  0.68722356  0.20916865  0.98338451  0.28154909]]\n",
      "\n",
      " [[ 0.83752622  0.12378486  0.77380373  0.43270332  0.26392168]\n",
      "  [ 0.02528723  0.5352501   0.35521185  0.05175587  0.64898055]\n",
      "  [ 0.52616383  0.94453068  0.17055731  0.15094225  0.63495276]]]\n"
     ]
    }
   ],
   "source": [
    "# your code here\n",
    "print(a)"
   ]
  },
  {
   "cell_type": "markdown",
   "metadata": {},
   "source": [
    "#### 5. Create a 5x2x3 3-dimensional array with all values equaling 1. Assign the array to variable *b*."
   ]
  },
  {
   "cell_type": "code",
   "execution_count": 13,
   "metadata": {
    "collapsed": true
   },
   "outputs": [],
   "source": [
    "# your code here\n",
    "b = np.ones((5,2,3))"
   ]
  },
  {
   "cell_type": "markdown",
   "metadata": {},
   "source": [
    "#### 6. Print *b*.\n"
   ]
  },
  {
   "cell_type": "code",
   "execution_count": 14,
   "metadata": {},
   "outputs": [
    {
     "name": "stdout",
     "output_type": "stream",
     "text": [
      "[[[ 1.  1.  1.]\n",
      "  [ 1.  1.  1.]]\n",
      "\n",
      " [[ 1.  1.  1.]\n",
      "  [ 1.  1.  1.]]\n",
      "\n",
      " [[ 1.  1.  1.]\n",
      "  [ 1.  1.  1.]]\n",
      "\n",
      " [[ 1.  1.  1.]\n",
      "  [ 1.  1.  1.]]\n",
      "\n",
      " [[ 1.  1.  1.]\n",
      "  [ 1.  1.  1.]]]\n"
     ]
    }
   ],
   "source": [
    "# your code here\n",
    "print(b)"
   ]
  },
  {
   "cell_type": "markdown",
   "metadata": {},
   "source": [
    "#### 7. Do *a* and *b* have the same size? How do you prove that in Python code?"
   ]
  },
  {
   "cell_type": "code",
   "execution_count": 15,
   "metadata": {},
   "outputs": [
    {
     "name": "stdout",
     "output_type": "stream",
     "text": [
      "True\n"
     ]
    }
   ],
   "source": [
    "# your code here\n",
    "print(a.size == b.size)"
   ]
  },
  {
   "cell_type": "markdown",
   "metadata": {},
   "source": [
    "#### 8. Are you able to add *a* and *b*? Why or why not?\n"
   ]
  },
  {
   "cell_type": "code",
   "execution_count": 16,
   "metadata": {},
   "outputs": [
    {
     "name": "stdout",
     "output_type": "stream",
     "text": [
      "False\n"
     ]
    }
   ],
   "source": [
    "# your answer here\n",
    "print(a.shape == b.shape)"
   ]
  },
  {
   "cell_type": "markdown",
   "metadata": {},
   "source": [
    "They have the same size but not the same shape. If we try to add a and b we get an error"
   ]
  },
  {
   "cell_type": "code",
   "execution_count": 17,
   "metadata": {},
   "outputs": [
    {
     "ename": "ValueError",
     "evalue": "operands could not be broadcast together with shapes (2,3,5) (5,2,3) ",
     "output_type": "error",
     "traceback": [
      "\u001b[1;31m---------------------------------------------------------------------------\u001b[0m",
      "\u001b[1;31mValueError\u001b[0m                                Traceback (most recent call last)",
      "\u001b[1;32m<ipython-input-17-8851636282c2>\u001b[0m in \u001b[0;36m<module>\u001b[1;34m()\u001b[0m\n\u001b[1;32m----> 1\u001b[1;33m \u001b[0mnp\u001b[0m\u001b[1;33m.\u001b[0m\u001b[0madd\u001b[0m\u001b[1;33m(\u001b[0m\u001b[0ma\u001b[0m\u001b[1;33m,\u001b[0m \u001b[0mb\u001b[0m\u001b[1;33m)\u001b[0m\u001b[1;33m\u001b[0m\u001b[0m\n\u001b[0m",
      "\u001b[1;31mValueError\u001b[0m: operands could not be broadcast together with shapes (2,3,5) (5,2,3) "
     ]
    }
   ],
   "source": [
    "np.add(a, b)"
   ]
  },
  {
   "cell_type": "markdown",
   "metadata": {},
   "source": [
    "#### 9. Transpose *b* so that it has the same structure of *a* (i.e. become a 2x3x5 array). Assign the transposed array to variable *c*."
   ]
  },
  {
   "cell_type": "code",
   "execution_count": 18,
   "metadata": {
    "collapsed": true
   },
   "outputs": [],
   "source": [
    "# your code here\n",
    "c = np.transpose(b, [1, 2, 0])"
   ]
  },
  {
   "cell_type": "code",
   "execution_count": 20,
   "metadata": {},
   "outputs": [
    {
     "name": "stdout",
     "output_type": "stream",
     "text": [
      "(2, 3, 5) - (2, 3, 5)\n"
     ]
    }
   ],
   "source": [
    "print(a.shape, '-', c.shape)"
   ]
  },
  {
   "cell_type": "markdown",
   "metadata": {},
   "source": [
    "It works because now the two arrays have the same shape"
   ]
  },
  {
   "cell_type": "markdown",
   "metadata": {},
   "source": [
    "#### 10. Try to add *a* and *c*. Now it should work. Assign the sum to variable *d*. But why does it work now?"
   ]
  },
  {
   "cell_type": "code",
   "execution_count": 21,
   "metadata": {},
   "outputs": [],
   "source": [
    "# your code/answer here\n",
    "d=np.add(a, c)"
   ]
  },
  {
   "cell_type": "markdown",
   "metadata": {},
   "source": [
    "It works because now the two arrays have the same shape"
   ]
  },
  {
   "cell_type": "markdown",
   "metadata": {},
   "source": [
    "#### 11. Print *a* and *d*. Notice the difference and relation of the two array in terms of the values? Explain."
   ]
  },
  {
   "cell_type": "code",
   "execution_count": 22,
   "metadata": {},
   "outputs": [
    {
     "name": "stdout",
     "output_type": "stream",
     "text": [
      "A\n",
      "[[[ 0.00453782  0.47251152  0.65513617  0.89370211  0.91464052]\n",
      "  [ 0.35606786  0.68149792  0.37211451  0.2493357   0.66608051]\n",
      "  [ 0.71459267  0.68722356  0.20916865  0.98338451  0.28154909]]\n",
      "\n",
      " [[ 0.83752622  0.12378486  0.77380373  0.43270332  0.26392168]\n",
      "  [ 0.02528723  0.5352501   0.35521185  0.05175587  0.64898055]\n",
      "  [ 0.52616383  0.94453068  0.17055731  0.15094225  0.63495276]]]\n",
      "D\n",
      "[[[ 1.00453782  1.47251152  1.65513617  1.89370211  1.91464052]\n",
      "  [ 1.35606786  1.68149792  1.37211451  1.2493357   1.66608051]\n",
      "  [ 1.71459267  1.68722356  1.20916865  1.98338451  1.28154909]]\n",
      "\n",
      " [[ 1.83752622  1.12378486  1.77380373  1.43270332  1.26392168]\n",
      "  [ 1.02528723  1.5352501   1.35521185  1.05175587  1.64898055]\n",
      "  [ 1.52616383  1.94453068  1.17055731  1.15094225  1.63495276]]]\n"
     ]
    }
   ],
   "source": [
    "# your code/answer here\n",
    "print('A')\n",
    "print(a)\n",
    "print('D')\n",
    "print(d)"
   ]
  },
  {
   "cell_type": "markdown",
   "metadata": {},
   "source": [
    "The relation between terms in a and d is:\n",
    "\n",
    "d[n][m][p] = a[n][m][p] + c[n][m][p]\n",
    "\n",
    "when c[n][m][p] = 1, n = {0,1}, m = {0,1,2}, p = {0,1,2,3,4}.\n",
    "\n",
    "We add one to every element in a."
   ]
  },
  {
   "cell_type": "markdown",
   "metadata": {},
   "source": [
    "#### 12. Multiply *a* and *c*. Assign the result to *e*."
   ]
  },
  {
   "cell_type": "code",
   "execution_count": 23,
   "metadata": {
    "collapsed": true
   },
   "outputs": [],
   "source": [
    "# your code here\n",
    "e = np.multiply(a,c)"
   ]
  },
  {
   "cell_type": "markdown",
   "metadata": {},
   "source": [
    "#### 13. Does *e* equal to *a*? Why or why not?\n"
   ]
  },
  {
   "cell_type": "markdown",
   "metadata": {
    "collapsed": true
   },
   "source": [
    "\n",
    "Yes. The relation between terms in a and e is:\n",
    "\n",
    "e[n][m][p] = a[n][m][p] * c[n][m][p]\n",
    "\n",
    "when c[n][m][p] = 1, n = {0,1}, m = {0,1,2}, p = {0,1,2,3,4}.\n",
    "\n",
    "We multiply by 1 every element in a, so the resulting array e should be equal to a."
   ]
  },
  {
   "cell_type": "code",
   "execution_count": 24,
   "metadata": {},
   "outputs": [
    {
     "name": "stdout",
     "output_type": "stream",
     "text": [
      "[[[ True  True  True  True  True]\n",
      "  [ True  True  True  True  True]\n",
      "  [ True  True  True  True  True]]\n",
      "\n",
      " [[ True  True  True  True  True]\n",
      "  [ True  True  True  True  True]\n",
      "  [ True  True  True  True  True]]]\n"
     ]
    }
   ],
   "source": [
    "print(a == e)"
   ]
  },
  {
   "cell_type": "markdown",
   "metadata": {},
   "source": [
    "#### 14. Identify the max, min, and mean values in *d*. Assign those values to variables *d_max*, *d_min* and *d_mean*."
   ]
  },
  {
   "cell_type": "code",
   "execution_count": 25,
   "metadata": {
    "collapsed": true
   },
   "outputs": [],
   "source": [
    "# your code here\n",
    "d_max = d.max()\n",
    "d_min = d.min()\n",
    "d_mean = d.mean()"
   ]
  },
  {
   "cell_type": "code",
   "execution_count": 26,
   "metadata": {},
   "outputs": [
    {
     "name": "stdout",
     "output_type": "stream",
     "text": [
      "MAX:   1.98338450819\n",
      "MIN:   1.0045378227\n",
      "MEAN:  1.48723051155\n"
     ]
    }
   ],
   "source": [
    "print('MAX:  ', d_max)\n",
    "print('MIN:  ', d_min)\n",
    "print('MEAN: ', d_mean)"
   ]
  },
  {
   "cell_type": "markdown",
   "metadata": {},
   "source": [
    "#### 15. Now we want to label the values in *d*. First create an empty array *f* with the same shape (i.e. 2x3x5) as *d* using `np.empty`.\n"
   ]
  },
  {
   "cell_type": "code",
   "execution_count": 27,
   "metadata": {
    "collapsed": true
   },
   "outputs": [],
   "source": [
    "# your code here\n",
    "f = np.empty((2, 3, 5), dtype=np.int8)"
   ]
  },
  {
   "cell_type": "markdown",
   "metadata": {},
   "source": [
    "#### 16. Populate the values in *f*. \n",
    "\n",
    "For each value in *d*, if it's larger than *d_min* but smaller than *d_mean*, assign 25 to the corresponding value in *f*. If a value in *d* is larger than *d_mean* but smaller than *d_max*, assign 75 to the corresponding value in *f*. If a value equals to *d_mean*, assign 50 to the corresponding value in *f*. Assign 0 to the corresponding value(s) in *f* for *d_min* in *d*. Assign 100 to the corresponding value(s) in *f* for *d_max* in *d*. In the end, f should have only the following values: 0, 25, 50, 75, and 100.\n",
    "\n",
    "**Note**: you don't have to use Numpy in this question."
   ]
  },
  {
   "cell_type": "code",
   "execution_count": 28,
   "metadata": {
    "collapsed": true
   },
   "outputs": [],
   "source": [
    "# your code here\n",
    "it = np.nditer(d, flags=['multi_index'])\n",
    "while not it.finished:\n",
    "    if it[0] == d_min:\n",
    "        f[it.multi_index] = 0;\n",
    "    elif it[0] > d_min and it[0] < d_mean:\n",
    "        f[it.multi_index] = 25\n",
    "    elif it[0] == d_mean:\n",
    "        f[it.multi_index] = 50;\n",
    "    elif it[0] > d_mean and it[0] < d_max:\n",
    "        f[it.multi_index] = 75\n",
    "    else:\n",
    "        f[it.multi_index] = 100\n",
    "    it.iternext()"
   ]
  },
  {
   "cell_type": "markdown",
   "metadata": {},
   "source": [
    "#### 17. Print *d* and *f*. Do you have your expected *f*?\n",
    "For instance, if your *d* is:\n",
    "```python\n",
    "[[[1.85836099, 1.67064465, 1.62576044, 1.40243961, 1.88454931],\n",
    "[1.75354326, 1.69403643, 1.36729252, 1.61415071, 1.12104981],\n",
    "[1.72201435, 1.1862918 , 1.87078449, 1.7726778 , 1.88180042]],\n",
    "[[1.44747908, 1.31673383, 1.02000951, 1.52218947, 1.97066381],\n",
    "[1.79129243, 1.74983003, 1.96028037, 1.85166831, 1.65450881],\n",
    "[1.18068344, 1.9587381 , 1.00656599, 1.93402165, 1.73514584]]]\n",
    "```\n",
    "Your *f* should be:\n",
    "```python\n",
    "[[[ 75.,  75.,  75.,  25.,  75.],\n",
    "[ 75.,  75.,  25.,  25.,  25.],\n",
    "[ 75.,  25.,  75.,  75.,  75.]],\n",
    "[[ 25.,  25.,  25.,  25., 100.],\n",
    "[ 75.,  75.,  75.,  75.,  75.],\n",
    "[ 25.,  75.,   0.,  75.,  75.]]]\n",
    "```"
   ]
  },
  {
   "cell_type": "code",
   "execution_count": 29,
   "metadata": {},
   "outputs": [
    {
     "name": "stdout",
     "output_type": "stream",
     "text": [
      "D\n",
      "[[[ 1.00453782  1.47251152  1.65513617  1.89370211  1.91464052]\n",
      "  [ 1.35606786  1.68149792  1.37211451  1.2493357   1.66608051]\n",
      "  [ 1.71459267  1.68722356  1.20916865  1.98338451  1.28154909]]\n",
      "\n",
      " [[ 1.83752622  1.12378486  1.77380373  1.43270332  1.26392168]\n",
      "  [ 1.02528723  1.5352501   1.35521185  1.05175587  1.64898055]\n",
      "  [ 1.52616383  1.94453068  1.17055731  1.15094225  1.63495276]]]\n",
      "F\n",
      "[[[  0  25  75  75  75]\n",
      "  [ 25  75  25  25  75]\n",
      "  [ 75  75  25 100  25]]\n",
      "\n",
      " [[ 75  25  75  25  25]\n",
      "  [ 25  75  25  25  75]\n",
      "  [ 75  75  25  25  75]]]\n"
     ]
    }
   ],
   "source": [
    "# your code here\n",
    "print('D')\n",
    "print(d)\n",
    "print('F')\n",
    "print(f)"
   ]
  },
  {
   "cell_type": "markdown",
   "metadata": {},
   "source": [
    "#### 18. Bonus question: instead of using numbers (i.e. 0, 25, 50, 75, and 100), use string values  (\"A\", \"B\", \"C\", \"D\", and \"E\") to label the array elements. For the example above, the expected result is:\n",
    "\n",
    "```python\n",
    "[[[ 'D',  'D',  'D',  'B',  'D'],\n",
    "[ 'D',  'D',  'B',  'B',  'B'],\n",
    "[ 'D',  'B',  'D',  'D',  'D']],\n",
    "[[ 'B',  'B',  'B',  'B',  'E'],\n",
    "[ 'D',  'D',  'D',  'D',  'D'],\n",
    "[ 'B',  'D',   'A',  'D', 'D']]]\n",
    "```\n",
    "**Note**: you don't have to use Numpy in this question."
   ]
  },
  {
   "cell_type": "code",
   "execution_count": 30,
   "metadata": {
    "collapsed": true
   },
   "outputs": [],
   "source": [
    "# your code here\n",
    "g = np.empty((2, 3, 5), dtype=str)\n",
    "it = np.nditer(d, flags=['multi_index'])\n",
    "while not it.finished:\n",
    "    if it[0] == d_min:\n",
    "        g[it.multi_index] = 'A'\n",
    "    elif it[0] > d_min and it[0] < d_mean:\n",
    "        g[it.multi_index] = 'B'\n",
    "    elif it[0] == d_mean:\n",
    "        g[it.multi_index] = 'C'\n",
    "    elif it[0] > d_mean and it[0] < d_max:\n",
    "        g[it.multi_index] = 'D'\n",
    "    else:\n",
    "        g[it.multi_index] = 'E'\n",
    "    it.iternext()"
   ]
  },
  {
   "cell_type": "code",
   "execution_count": 31,
   "metadata": {},
   "outputs": [
    {
     "name": "stdout",
     "output_type": "stream",
     "text": [
      "G\n",
      "[[['A' 'B' 'D' 'D' 'D']\n",
      "  ['B' 'D' 'B' 'B' 'D']\n",
      "  ['D' 'D' 'B' 'E' 'B']]\n",
      "\n",
      " [['D' 'B' 'D' 'B' 'B']\n",
      "  ['B' 'D' 'B' 'B' 'D']\n",
      "  ['D' 'D' 'B' 'B' 'D']]]\n"
     ]
    }
   ],
   "source": [
    "print('G')\n",
    "print(g)"
   ]
  }
 ],
 "metadata": {
  "kernelspec": {
   "display_name": "Python 3",
   "language": "python",
   "name": "python3"
  },
  "language_info": {
   "codemirror_mode": {
    "name": "ipython",
    "version": 3
   },
   "file_extension": ".py",
   "mimetype": "text/x-python",
   "name": "python",
   "nbconvert_exporter": "python",
   "pygments_lexer": "ipython3",
   "version": "3.6.3"
  }
 },
 "nbformat": 4,
 "nbformat_minor": 2
}
