{
 "cells": [
  {
   "cell_type": "markdown",
   "metadata": {},
   "source": [
    "In this challenge we will walk you through a question in the previous [Subsetting and Descriptive Stats lab](../../lab-subsetting-and-descriptive-stats/your-code/main.ipynb), then leverage the challenge. In the walkthrough, you'll be exposed to the thinking process how a pro would tackle the problem. Try to understand the thinking process and apply it in the leveraged problem.\n",
    "\n",
    "## Import all libraries that are necessary"
   ]
  },
  {
   "cell_type": "code",
   "execution_count": 2,
   "metadata": {},
   "outputs": [],
   "source": [
    "import numpy as np\n",
    "import pandas as pd"
   ]
  },
  {
   "cell_type": "markdown",
   "metadata": {},
   "source": [
    "## Import and overview data\n",
    "\n",
    "First import `employee.csv` from the \"subsetting\" lab folder and print head to overview the data:"
   ]
  },
  {
   "cell_type": "code",
   "execution_count": 3,
   "metadata": {},
   "outputs": [
    {
     "data": {
      "text/html": [
       "<div>\n",
       "<style scoped>\n",
       "    .dataframe tbody tr th:only-of-type {\n",
       "        vertical-align: middle;\n",
       "    }\n",
       "\n",
       "    .dataframe tbody tr th {\n",
       "        vertical-align: top;\n",
       "    }\n",
       "\n",
       "    .dataframe thead th {\n",
       "        text-align: right;\n",
       "    }\n",
       "</style>\n",
       "<table border=\"1\" class=\"dataframe\">\n",
       "  <thead>\n",
       "    <tr style=\"text-align: right;\">\n",
       "      <th></th>\n",
       "      <th>Name</th>\n",
       "      <th>Department</th>\n",
       "      <th>Education</th>\n",
       "      <th>Gender</th>\n",
       "      <th>Title</th>\n",
       "      <th>Years</th>\n",
       "      <th>Salary</th>\n",
       "    </tr>\n",
       "  </thead>\n",
       "  <tbody>\n",
       "    <tr>\n",
       "      <th>0</th>\n",
       "      <td>Jose</td>\n",
       "      <td>IT</td>\n",
       "      <td>Bachelor</td>\n",
       "      <td>M</td>\n",
       "      <td>analyst</td>\n",
       "      <td>1</td>\n",
       "      <td>35</td>\n",
       "    </tr>\n",
       "    <tr>\n",
       "      <th>1</th>\n",
       "      <td>Maria</td>\n",
       "      <td>IT</td>\n",
       "      <td>Master</td>\n",
       "      <td>F</td>\n",
       "      <td>analyst</td>\n",
       "      <td>2</td>\n",
       "      <td>30</td>\n",
       "    </tr>\n",
       "    <tr>\n",
       "      <th>2</th>\n",
       "      <td>David</td>\n",
       "      <td>HR</td>\n",
       "      <td>Master</td>\n",
       "      <td>M</td>\n",
       "      <td>analyst</td>\n",
       "      <td>2</td>\n",
       "      <td>30</td>\n",
       "    </tr>\n",
       "    <tr>\n",
       "      <th>3</th>\n",
       "      <td>Sonia</td>\n",
       "      <td>HR</td>\n",
       "      <td>Bachelor</td>\n",
       "      <td>F</td>\n",
       "      <td>analyst</td>\n",
       "      <td>4</td>\n",
       "      <td>35</td>\n",
       "    </tr>\n",
       "    <tr>\n",
       "      <th>4</th>\n",
       "      <td>Samuel</td>\n",
       "      <td>Sales</td>\n",
       "      <td>Master</td>\n",
       "      <td>M</td>\n",
       "      <td>associate</td>\n",
       "      <td>3</td>\n",
       "      <td>55</td>\n",
       "    </tr>\n",
       "  </tbody>\n",
       "</table>\n",
       "</div>"
      ],
      "text/plain": [
       "     Name Department Education Gender      Title  Years  Salary\n",
       "0    Jose         IT  Bachelor      M    analyst      1      35\n",
       "1   Maria         IT    Master      F    analyst      2      30\n",
       "2   David         HR    Master      M    analyst      2      30\n",
       "3   Sonia         HR  Bachelor      F    analyst      4      35\n",
       "4  Samuel      Sales    Master      M  associate      3      55"
      ]
     },
     "execution_count": 3,
     "metadata": {},
     "output_type": "execute_result"
    }
   ],
   "source": [
    "employee = pd.read_csv(\"../../lab-subsetting-and-descriptive-stats/your-code/Employee.csv\")\n",
    "\n",
    "employee.head()"
   ]
  },
  {
   "cell_type": "markdown",
   "metadata": {},
   "source": [
    "Printing the head is not a useless routine. You should really look at the data set and understand what they are. No data analyst can successfully analyze the data without in-dpeth understanding of what each column is about. As we progress in this course, the data sets are becoming increasingly complex which requires you to inspect the data at the beginning then on the needed basis thoughout the problem-solving process.\n",
    "\n",
    "One question in the previous lab is:\n",
    "\n",
    "**Find the minimum, mean, and maximum of all numeric columns for each Department.**\n",
    "\n",
    "We will walk you through how to solve this question using the workflow discussed in the [Data Analysis Iteration video](https://www.youtube.com/watch?v=xOomNicqbkk)."
   ]
  },
  {
   "cell_type": "markdown",
   "metadata": {},
   "source": [
    "## Main Problem - Setting Expectations\n",
    "\n",
    "We want to break down the problem into several sub problems:\n",
    "\n",
    "**Sub Problem 1 - How to extract numeric columns from a data set?**\n",
    "\n",
    "**Sub Problem 2 - How to calculate minimum, mean. and maximum?**\n",
    "\n",
    "**Sub Problem 3 - How to perform calculations for each Department?**\n",
    "\n",
    "If we figure out each of the sub problems above, we have found the solution for our main problem.\n",
    "\n",
    "Next let's tackcle each sub problem."
   ]
  },
  {
   "cell_type": "markdown",
   "metadata": {},
   "source": [
    "## Main Problem - Collecting Information\n",
    "\n",
    "This step is the problem-solving process of the main problem in which we will solve each of the three sub problems.\n",
    "\n",
    "### Sub Problem 1\n",
    "\n",
    "#### Setting Expectations\n",
    "\n",
    "**Define problem: How to extract numeric columns from a data set?**\n",
    "\n",
    "#### Collecting Information\n",
    "\n",
    "This was already covered in the lesson by using `dtypes`. So let's print out all numeric columns:"
   ]
  },
  {
   "cell_type": "code",
   "execution_count": 35,
   "metadata": {},
   "outputs": [
    {
     "data": {
      "text/plain": [
       "Name          object\n",
       "Department    object\n",
       "Education     object\n",
       "Gender        object\n",
       "Title         object\n",
       "Years          int64\n",
       "Salary         int64\n",
       "dtype: object"
      ]
     },
     "execution_count": 35,
     "metadata": {},
     "output_type": "execute_result"
    }
   ],
   "source": [
    "# enter your code here\n",
    "\n",
    "employee.dtypes"
   ]
  },
  {
   "cell_type": "markdown",
   "metadata": {},
   "source": [
    "You should have seen:\n",
    "    \n",
    "```\n",
    "Name          object\n",
    "Department    object\n",
    "Education     object\n",
    "Gender        object\n",
    "Title         object\n",
    "Years          int64\n",
    "Salary         int64\n",
    "dtype: object\n",
    "```\n",
    "\n",
    "#### Reacting to Data\n",
    "\n",
    "You found `Years` and `Salary` are the numeric columns we need to extract. So we can potentially use `employee[[\"Years\", \"Salary\"]]` to extract these columns:"
   ]
  },
  {
   "cell_type": "code",
   "execution_count": 5,
   "metadata": {},
   "outputs": [
    {
     "data": {
      "text/html": [
       "<div>\n",
       "<style scoped>\n",
       "    .dataframe tbody tr th:only-of-type {\n",
       "        vertical-align: middle;\n",
       "    }\n",
       "\n",
       "    .dataframe tbody tr th {\n",
       "        vertical-align: top;\n",
       "    }\n",
       "\n",
       "    .dataframe thead th {\n",
       "        text-align: right;\n",
       "    }\n",
       "</style>\n",
       "<table border=\"1\" class=\"dataframe\">\n",
       "  <thead>\n",
       "    <tr style=\"text-align: right;\">\n",
       "      <th></th>\n",
       "      <th>Years</th>\n",
       "      <th>Salary</th>\n",
       "    </tr>\n",
       "  </thead>\n",
       "  <tbody>\n",
       "    <tr>\n",
       "      <th>0</th>\n",
       "      <td>1</td>\n",
       "      <td>35</td>\n",
       "    </tr>\n",
       "    <tr>\n",
       "      <th>1</th>\n",
       "      <td>2</td>\n",
       "      <td>30</td>\n",
       "    </tr>\n",
       "    <tr>\n",
       "      <th>2</th>\n",
       "      <td>2</td>\n",
       "      <td>30</td>\n",
       "    </tr>\n",
       "    <tr>\n",
       "      <th>3</th>\n",
       "      <td>4</td>\n",
       "      <td>35</td>\n",
       "    </tr>\n",
       "    <tr>\n",
       "      <th>4</th>\n",
       "      <td>3</td>\n",
       "      <td>55</td>\n",
       "    </tr>\n",
       "    <tr>\n",
       "      <th>5</th>\n",
       "      <td>2</td>\n",
       "      <td>55</td>\n",
       "    </tr>\n",
       "    <tr>\n",
       "      <th>6</th>\n",
       "      <td>8</td>\n",
       "      <td>70</td>\n",
       "    </tr>\n",
       "    <tr>\n",
       "      <th>7</th>\n",
       "      <td>7</td>\n",
       "      <td>60</td>\n",
       "    </tr>\n",
       "    <tr>\n",
       "      <th>8</th>\n",
       "      <td>8</td>\n",
       "      <td>70</td>\n",
       "    </tr>\n",
       "  </tbody>\n",
       "</table>\n",
       "</div>"
      ],
      "text/plain": [
       "   Years  Salary\n",
       "0      1      35\n",
       "1      2      30\n",
       "2      2      30\n",
       "3      4      35\n",
       "4      3      55\n",
       "5      2      55\n",
       "6      8      70\n",
       "7      7      60\n",
       "8      8      70"
      ]
     },
     "execution_count": 5,
     "metadata": {},
     "output_type": "execute_result"
    }
   ],
   "source": [
    "employee[[\"Years\", \"Salary\"]]"
   ]
  },
  {
   "cell_type": "markdown",
   "metadata": {},
   "source": [
    "But instead of hardcoding the column names in the solution, a better approach is to define a Python function that dynamically returns all numeric columns. You will be able to re-use this function in your future works. Also, if the data set is huge and it contains hundreds of numeric columns, it is impossible to manually select them.\n",
    "\n",
    "#### Revising Expectations\n",
    "\n",
    "**Define new problem: How to *dynamically* extract numeric columns from a data set?**\n",
    "\n",
    "#### Collecting Information\n",
    "\n",
    "This was not covered in the lesson. So we need to [google the answer](https://www.google.com/search?q=pandas+dataframe+get+all+numeric+columns).\n",
    "\n",
    "After finding the answer, write the function below."
   ]
  },
  {
   "cell_type": "code",
   "execution_count": 37,
   "metadata": {},
   "outputs": [],
   "source": [
    "def get_numeric_cols(df):\n",
    "    # write your code below.\n",
    "    return df.select_dtypes(include=[np.number])"
   ]
  },
  {
   "cell_type": "markdown",
   "metadata": {},
   "source": [
    "#### Reacting to Data\n",
    "\n",
    "Now test your function:"
   ]
  },
  {
   "cell_type": "code",
   "execution_count": 38,
   "metadata": {},
   "outputs": [
    {
     "data": {
      "text/html": [
       "<div>\n",
       "<style scoped>\n",
       "    .dataframe tbody tr th:only-of-type {\n",
       "        vertical-align: middle;\n",
       "    }\n",
       "\n",
       "    .dataframe tbody tr th {\n",
       "        vertical-align: top;\n",
       "    }\n",
       "\n",
       "    .dataframe thead th {\n",
       "        text-align: right;\n",
       "    }\n",
       "</style>\n",
       "<table border=\"1\" class=\"dataframe\">\n",
       "  <thead>\n",
       "    <tr style=\"text-align: right;\">\n",
       "      <th></th>\n",
       "      <th>Years</th>\n",
       "      <th>Salary</th>\n",
       "    </tr>\n",
       "  </thead>\n",
       "  <tbody>\n",
       "    <tr>\n",
       "      <th>0</th>\n",
       "      <td>1</td>\n",
       "      <td>35</td>\n",
       "    </tr>\n",
       "    <tr>\n",
       "      <th>1</th>\n",
       "      <td>2</td>\n",
       "      <td>30</td>\n",
       "    </tr>\n",
       "    <tr>\n",
       "      <th>2</th>\n",
       "      <td>2</td>\n",
       "      <td>30</td>\n",
       "    </tr>\n",
       "    <tr>\n",
       "      <th>3</th>\n",
       "      <td>4</td>\n",
       "      <td>35</td>\n",
       "    </tr>\n",
       "    <tr>\n",
       "      <th>4</th>\n",
       "      <td>3</td>\n",
       "      <td>55</td>\n",
       "    </tr>\n",
       "    <tr>\n",
       "      <th>5</th>\n",
       "      <td>2</td>\n",
       "      <td>55</td>\n",
       "    </tr>\n",
       "    <tr>\n",
       "      <th>6</th>\n",
       "      <td>8</td>\n",
       "      <td>70</td>\n",
       "    </tr>\n",
       "    <tr>\n",
       "      <th>7</th>\n",
       "      <td>7</td>\n",
       "      <td>60</td>\n",
       "    </tr>\n",
       "    <tr>\n",
       "      <th>8</th>\n",
       "      <td>8</td>\n",
       "      <td>70</td>\n",
       "    </tr>\n",
       "  </tbody>\n",
       "</table>\n",
       "</div>"
      ],
      "text/plain": [
       "   Years  Salary\n",
       "0      1      35\n",
       "1      2      30\n",
       "2      2      30\n",
       "3      4      35\n",
       "4      3      55\n",
       "5      2      55\n",
       "6      8      70\n",
       "7      7      60\n",
       "8      8      70"
      ]
     },
     "execution_count": 38,
     "metadata": {},
     "output_type": "execute_result"
    }
   ],
   "source": [
    "get_numeric_cols(employee)"
   ]
  },
  {
   "cell_type": "markdown",
   "metadata": {},
   "source": [
    "You should have seen:\n",
    "\n",
    "```\n",
    "   Years  Salary\n",
    "0      1      35\n",
    "1      2      30\n",
    "2      2      30\n",
    "3      4      35\n",
    "4      3      55\n",
    "5      2      55\n",
    "6      8      70\n",
    "7      7      60\n",
    "8      8      70\n",
    "```\n",
    "\n"
   ]
  },
  {
   "cell_type": "markdown",
   "metadata": {},
   "source": [
    "Yes, this is exactly what we want!\n",
    "\n",
    "Now we move to the next sub problem.\n",
    "\n",
    "### Sub Problem 2\n",
    "\n",
    "#### Setting Expectations\n",
    "\n",
    "**Define problem: How to calculate minimum, mean. and maximum?**\n",
    "\n",
    "#### Collecting Information\n",
    "\n",
    "That's easy. Review the *Descriptive Statistics With Pandas* lesson and we find there are functions already made for Pandas dataframes to calculate minimum, mean, and maximum. We'll leverage from the solution we found in sub problem 1 and try to calculate on the numeric columns:"
   ]
  },
  {
   "cell_type": "code",
   "execution_count": 39,
   "metadata": {},
   "outputs": [
    {
     "name": "stdout",
     "output_type": "stream",
     "text": [
      "PRINTING MIN:\n",
      "Years      1\n",
      "Salary    30\n",
      "dtype: int64\n",
      "\n",
      "---\n",
      "\n",
      "PRINTING MEAN:\n",
      "Years      4.111111\n",
      "Salary    48.888889\n",
      "dtype: float64\n",
      "\n",
      "---\n",
      "\n",
      "PRINTING MAX:\n",
      "Years      8\n",
      "Salary    70\n",
      "dtype: int64\n"
     ]
    }
   ],
   "source": [
    "numeric_cols = get_numeric_cols(employee)\n",
    "\n",
    "print('PRINTING MIN:')\n",
    "\n",
    "# enter your code here\n",
    "print(numeric_cols.min())\n",
    "\n",
    "print('\\n---\\n')\n",
    "print('PRINTING MEAN:')\n",
    "\n",
    "# enter your code here\n",
    "print(numeric_cols.mean())\n",
    "\n",
    "print('\\n---\\n')\n",
    "print('PRINTING MAX:')\n",
    "\n",
    "# enter your code here\n",
    "print(numeric_cols.max())"
   ]
  },
  {
   "cell_type": "markdown",
   "metadata": {},
   "source": [
    "After inspecting the output we find there is no revision required. So we move to the next sub problem.\n",
    "\n",
    "### Sub Problem 3\n",
    "\n",
    "#### Setting Expectations\n",
    "\n",
    "**Define problem: How to perform calculations for each Department?**\n",
    "\n",
    "#### Collecting Information\n",
    "\n",
    "This is covered in the *Data Aggregations and Summarization* lesson. What we need is to aggregate data by Department. Assign the aggregated data to a new variable called `employee_by_department`"
   ]
  },
  {
   "cell_type": "code",
   "execution_count": 40,
   "metadata": {},
   "outputs": [],
   "source": [
    "# enter your code here\n",
    "employee_by_department = employee.groupby(['Department'])"
   ]
  },
  {
   "cell_type": "markdown",
   "metadata": {},
   "source": [
    "#### Reacting to Data\n",
    "\n",
    "Test to calculate the means of each department:"
   ]
  },
  {
   "cell_type": "code",
   "execution_count": 41,
   "metadata": {},
   "outputs": [
    {
     "data": {
      "text/html": [
       "<div>\n",
       "<style scoped>\n",
       "    .dataframe tbody tr th:only-of-type {\n",
       "        vertical-align: middle;\n",
       "    }\n",
       "\n",
       "    .dataframe tbody tr th {\n",
       "        vertical-align: top;\n",
       "    }\n",
       "\n",
       "    .dataframe thead th {\n",
       "        text-align: right;\n",
       "    }\n",
       "</style>\n",
       "<table border=\"1\" class=\"dataframe\">\n",
       "  <thead>\n",
       "    <tr style=\"text-align: right;\">\n",
       "      <th></th>\n",
       "      <th>Years</th>\n",
       "      <th>Salary</th>\n",
       "    </tr>\n",
       "    <tr>\n",
       "      <th>Department</th>\n",
       "      <th></th>\n",
       "      <th></th>\n",
       "    </tr>\n",
       "  </thead>\n",
       "  <tbody>\n",
       "    <tr>\n",
       "      <th>HR</th>\n",
       "      <td>4.666667</td>\n",
       "      <td>45.00</td>\n",
       "    </tr>\n",
       "    <tr>\n",
       "      <th>IT</th>\n",
       "      <td>4.500000</td>\n",
       "      <td>48.75</td>\n",
       "    </tr>\n",
       "    <tr>\n",
       "      <th>Sales</th>\n",
       "      <td>2.500000</td>\n",
       "      <td>55.00</td>\n",
       "    </tr>\n",
       "  </tbody>\n",
       "</table>\n",
       "</div>"
      ],
      "text/plain": [
       "               Years  Salary\n",
       "Department                  \n",
       "HR          4.666667   45.00\n",
       "IT          4.500000   48.75\n",
       "Sales       2.500000   55.00"
      ]
     },
     "execution_count": 41,
     "metadata": {},
     "output_type": "execute_result"
    }
   ],
   "source": [
    "employee_by_department.mean()"
   ]
  },
  {
   "cell_type": "markdown",
   "metadata": {},
   "source": [
    "This is what we expect for this sub problem. Now we are ready to combine the solutions of all three sub problems in order to solve the main problem.\n",
    "\n",
    "## Main Problem - Reacting to Data / Revising Expectations\n",
    "\n",
    "It turns out Pandas is smart enough to perform `mean` calculations on numeric columns only even if the data set contains non-numeric fields. We can choose to revise our solution because it is not really necessary to obtain the numeric columns (Sub Problem 1) by ourselves. In this case we simply combine solutions for Sub Problem 2 & 3. Write your codes below:"
   ]
  },
  {
   "cell_type": "code",
   "execution_count": 42,
   "metadata": {},
   "outputs": [
    {
     "name": "stdout",
     "output_type": "stream",
     "text": [
      "PRINTING DEPARTMENT MIN:\n",
      "              Name Education Gender      Title  Years  Salary\n",
      "Department                                                   \n",
      "HR             Ana  Bachelor      F         VP      2      30\n",
      "IT          Carlos  Bachelor      F         VP      1      30\n",
      "Sales          Eva  Bachelor      F  associate      2      55\n",
      "\n",
      "---\n",
      "\n",
      "PRINTING DEPARTMENT MEAN:\n",
      "               Years  Salary\n",
      "Department                  \n",
      "HR          4.666667   45.00\n",
      "IT          4.500000   48.75\n",
      "Sales       2.500000   55.00\n",
      "\n",
      "---\n",
      "\n",
      "PRINTING DEPARTMENT MAX:\n",
      "              Name Education Gender      Title  Years  Salary\n",
      "Department                                                   \n",
      "HR           Sonia    Master      M    analyst      8      70\n",
      "IT           Pedro       Phd      M  associate      8      70\n",
      "Sales       Samuel    Master      M  associate      3      55\n"
     ]
    }
   ],
   "source": [
    "# enter your codes here to print department MIN\n",
    "print('PRINTING DEPARTMENT MIN:')\n",
    "print(employee_by_department.min())\n",
    "\n",
    "# enter your codes here to print department MEAN\n",
    "print('\\n---\\n')\n",
    "print('PRINTING DEPARTMENT MEAN:')\n",
    "print(employee_by_department.mean())\n",
    "\n",
    "# enter your codes here to print department MAX\n",
    "print('\\n---\\n')\n",
    "print('PRINTING DEPARTMENT MAX:')\n",
    "print(employee_by_department.max())"
   ]
  },
  {
   "cell_type": "markdown",
   "metadata": {},
   "source": [
    "Alternatively, we can choose to stick to our original solution that combines all 3 sub problems. We want to do this because we will have more control over what we want to do with the data. What if the goal is not to perform MIN, MEAN, and MAX? What if the question is to apply a custom function you wrote which cannot automatically select numeric columns to perform? It is good that we figure out how to do this.\n",
    "\n",
    "Write your code below that uses one line of code to perform MIN/MEAN/MAX respectively.\n",
    "\n",
    "*Hint: use `apply` and `lambda`*"
   ]
  },
  {
   "cell_type": "code",
   "execution_count": 43,
   "metadata": {},
   "outputs": [],
   "source": [
    "# enter your code here\n",
    "\n",
    "mins = employee.groupby('Department').apply(lambda a : get_numeric_cols(a)).min()\n",
    "\n",
    "means = employee.groupby('Department').apply(lambda a : get_numeric_cols(a)).mean()\n",
    "\n",
    "maxes = employee.groupby('Department').apply(lambda a : get_numeric_cols(a)).max()"
   ]
  },
  {
   "cell_type": "markdown",
   "metadata": {},
   "source": [
    "Test your codes and see if you will receive outputs similar to the following:\n",
    "\n",
    "```\n",
    "PRINTING DEPARTMENT MIN:\n",
    "\n",
    "Years      1\n",
    "Salary    30\n",
    "dtype: int64\n",
    "\n",
    "---\n",
    "\n",
    "PRINTING DEPARTMENT MEAN:\n",
    "\n",
    "Years      4.111111\n",
    "Salary    48.888889\n",
    "dtype: float64\n",
    "\n",
    "---\n",
    "\n",
    "PRINTING DEPARTMENT MAX:\n",
    "\n",
    "Years      8\n",
    "Salary    70\n",
    "dtype: int64\n",
    "```"
   ]
  },
  {
   "cell_type": "markdown",
   "metadata": {},
   "source": [
    "If you don't see the correct output, check your codes and revise."
   ]
  }
 ],
 "metadata": {
  "kernelspec": {
   "display_name": "Python 3",
   "language": "python",
   "name": "python3"
  },
  "language_info": {
   "codemirror_mode": {
    "name": "ipython",
    "version": 3
   },
   "file_extension": ".py",
   "mimetype": "text/x-python",
   "name": "python",
   "nbconvert_exporter": "python",
   "pygments_lexer": "ipython3",
   "version": "3.7.0"
  }
 },
 "nbformat": 4,
 "nbformat_minor": 2
}
