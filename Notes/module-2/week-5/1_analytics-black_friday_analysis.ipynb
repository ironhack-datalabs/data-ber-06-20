{
 "cells": [
  {
   "cell_type": "code",
   "execution_count": 61,
   "metadata": {},
   "outputs": [],
   "source": [
    "import pandas as pd\n",
    "import numpy as np\n",
    "import matplotlib\n",
    "import matplotlib.pyplot as plt\n",
    "import seaborn as sns\n",
    "import mysql_conn as mc\n",
    "import statsmodels.api as sm\n",
    "\n",
    "sns.set_style(\"white\")"
   ]
  },
  {
   "cell_type": "code",
   "execution_count": 2,
   "metadata": {},
   "outputs": [
    {
     "name": "stdout",
     "output_type": "stream",
     "text": [
      "Please provide your password········\n"
     ]
    }
   ],
   "source": [
    "conn = mc.connect()"
   ]
  },
  {
   "cell_type": "markdown",
   "metadata": {},
   "source": [
    "# Black Friday promotion analysis\n",
    "\n",
    "(Today: August 2018)\n",
    "\n",
    "Olist ran a Black Friday campaign on Nov. 24th 2017. The campaign lasted for a week. \n",
    "\n",
    "The marketing team approaches you and asks if we should run the campaign again, this year.\n",
    "\n",
    "## Get revenue data"
   ]
  },
  {
   "cell_type": "code",
   "execution_count": 3,
   "metadata": {},
   "outputs": [],
   "source": [
    "query = \"\"\"\n",
    "SELECT\n",
    "    DATE_SUB(DATE(o.order_purchase_timestamp),\n",
    "        INTERVAL IF((DAYOFWEEK(DATE(o.order_purchase_timestamp)) - 2) = -1,\n",
    "            6,\n",
    "            DAYOFWEEK(DATE(o.order_purchase_timestamp)) - 2) DAY)   AS week_id,\n",
    "    SUM(oi.price)                                                   AS revenue\n",
    "FROM order_items oi\n",
    "    JOIN orders o\n",
    "    ON oi.order_id = o.order_id\n",
    "WHERE\n",
    "    o.order_purchase_timestamp > '2017-01-02'\n",
    "    AND o.order_purchase_timestamp < '2018-09-03'\n",
    "GROUP BY 1\n",
    "ORDER BY 1;\n",
    "\"\"\"\n",
    "\n",
    "weekly_rev = pd.read_sql(query, conn)"
   ]
  },
  {
   "cell_type": "code",
   "execution_count": 4,
   "metadata": {},
   "outputs": [
    {
     "data": {
      "text/html": [
       "<div>\n",
       "<style scoped>\n",
       "    .dataframe tbody tr th:only-of-type {\n",
       "        vertical-align: middle;\n",
       "    }\n",
       "\n",
       "    .dataframe tbody tr th {\n",
       "        vertical-align: top;\n",
       "    }\n",
       "\n",
       "    .dataframe thead th {\n",
       "        text-align: right;\n",
       "    }\n",
       "</style>\n",
       "<table border=\"1\" class=\"dataframe\">\n",
       "  <thead>\n",
       "    <tr style=\"text-align: right;\">\n",
       "      <th></th>\n",
       "      <th>week_id</th>\n",
       "      <th>revenue</th>\n",
       "    </tr>\n",
       "  </thead>\n",
       "  <tbody>\n",
       "    <tr>\n",
       "      <th>0</th>\n",
       "      <td>2017-01-02</td>\n",
       "      <td>3374.759989</td>\n",
       "    </tr>\n",
       "    <tr>\n",
       "      <th>1</th>\n",
       "      <td>2017-01-09</td>\n",
       "      <td>12937.239933</td>\n",
       "    </tr>\n",
       "    <tr>\n",
       "      <th>2</th>\n",
       "      <td>2017-01-16</td>\n",
       "      <td>24310.460104</td>\n",
       "    </tr>\n",
       "    <tr>\n",
       "      <th>3</th>\n",
       "      <td>2017-01-23</td>\n",
       "      <td>57773.149855</td>\n",
       "    </tr>\n",
       "    <tr>\n",
       "      <th>4</th>\n",
       "      <td>2017-01-30</td>\n",
       "      <td>71710.339832</td>\n",
       "    </tr>\n",
       "  </tbody>\n",
       "</table>\n",
       "</div>"
      ],
      "text/plain": [
       "      week_id       revenue\n",
       "0  2017-01-02   3374.759989\n",
       "1  2017-01-09  12937.239933\n",
       "2  2017-01-16  24310.460104\n",
       "3  2017-01-23  57773.149855\n",
       "4  2017-01-30  71710.339832"
      ]
     },
     "execution_count": 4,
     "metadata": {},
     "output_type": "execute_result"
    }
   ],
   "source": [
    "weekly_rev.head()"
   ]
  },
  {
   "cell_type": "code",
   "execution_count": 5,
   "metadata": {},
   "outputs": [
    {
     "data": {
      "text/plain": [
       "week_id     object\n",
       "revenue    float64\n",
       "dtype: object"
      ]
     },
     "execution_count": 5,
     "metadata": {},
     "output_type": "execute_result"
    }
   ],
   "source": [
    "weekly_rev.dtypes"
   ]
  },
  {
   "cell_type": "code",
   "execution_count": 6,
   "metadata": {},
   "outputs": [],
   "source": [
    "weekly_rev[\"week_id\"] = pd.to_datetime(weekly_rev[\"week_id\"])"
   ]
  },
  {
   "cell_type": "code",
   "execution_count": 7,
   "metadata": {},
   "outputs": [
    {
     "data": {
      "image/png": "[encoded data removed]",
      "text/plain": [
       "<Figure size 432x288 with 1 Axes>"
      ]
     },
     "metadata": {},
     "output_type": "display_data"
    }
   ],
   "source": [
    "ax = weekly_rev.set_index(\"week_id\").plot();\n",
    "ax.axvline(\"2017-11-20\", color=\"r\");"
   ]
  },
  {
   "cell_type": "markdown",
   "metadata": {},
   "source": [
    "# Approach 1:\n",
    "\n",
    "Compare the week with Black Friday promotion to the week prior"
   ]
  },
  {
   "cell_type": "code",
   "execution_count": 8,
   "metadata": {},
   "outputs": [],
   "source": [
    "bf_week = \"2017-11-20\"\n",
    "prior_week = \"2017-11-13\""
   ]
  },
  {
   "cell_type": "code",
   "execution_count": 9,
   "metadata": {},
   "outputs": [
    {
     "data": {
      "text/html": [
       "<div>\n",
       "<style scoped>\n",
       "    .dataframe tbody tr th:only-of-type {\n",
       "        vertical-align: middle;\n",
       "    }\n",
       "\n",
       "    .dataframe tbody tr th {\n",
       "        vertical-align: top;\n",
       "    }\n",
       "\n",
       "    .dataframe thead th {\n",
       "        text-align: right;\n",
       "    }\n",
       "</style>\n",
       "<table border=\"1\" class=\"dataframe\">\n",
       "  <thead>\n",
       "    <tr style=\"text-align: right;\">\n",
       "      <th></th>\n",
       "      <th>week_id</th>\n",
       "      <th>revenue</th>\n",
       "    </tr>\n",
       "  </thead>\n",
       "  <tbody>\n",
       "    <tr>\n",
       "      <th>45</th>\n",
       "      <td>2017-11-13</td>\n",
       "      <td>175819.690094</td>\n",
       "    </tr>\n",
       "    <tr>\n",
       "      <th>46</th>\n",
       "      <td>2017-11-20</td>\n",
       "      <td>407169.060410</td>\n",
       "    </tr>\n",
       "  </tbody>\n",
       "</table>\n",
       "</div>"
      ],
      "text/plain": [
       "      week_id        revenue\n",
       "45 2017-11-13  175819.690094\n",
       "46 2017-11-20  407169.060410"
      ]
     },
     "execution_count": 9,
     "metadata": {},
     "output_type": "execute_result"
    }
   ],
   "source": [
    "weekly_rev.loc[weekly_rev[\"week_id\"].between(prior_week, bf_week)]"
   ]
  },
  {
   "cell_type": "code",
   "execution_count": 10,
   "metadata": {},
   "outputs": [
    {
     "data": {
      "image/png": "[encoded data removed]",
      "text/plain": [
       "<Figure size 432x288 with 1 Axes>"
      ]
     },
     "metadata": {},
     "output_type": "display_data"
    }
   ],
   "source": [
    "sns.barplot(data=weekly_rev.loc[weekly_rev[\"week_id\"].between(prior_week, bf_week)],\n",
    "            x=\"week_id\",\n",
    "            y=\"revenue\");"
   ]
  },
  {
   "cell_type": "markdown",
   "metadata": {},
   "source": [
    "Baseline: The revenue in the prior week.\n",
    "\n",
    "=> We are assuming that the revenue in the week of 2017-11-20 would have been the same as in the prior week, if we wouldn't have run a Black Friday promotion"
   ]
  },
  {
   "cell_type": "code",
   "execution_count": 11,
   "metadata": {},
   "outputs": [
    {
     "data": {
      "text/plain": [
       "175819.69009399414"
      ]
     },
     "execution_count": 11,
     "metadata": {},
     "output_type": "execute_result"
    }
   ],
   "source": [
    "weekly_rev.loc[weekly_rev[\"week_id\"] == prior_week, \"revenue\"].values[0]"
   ]
  },
  {
   "cell_type": "code",
   "execution_count": 12,
   "metadata": {},
   "outputs": [
    {
     "data": {
      "image/png": "[encoded data removed]",
      "text/plain": [
       "<Figure size 432x288 with 1 Axes>"
      ]
     },
     "metadata": {},
     "output_type": "display_data"
    }
   ],
   "source": [
    "ax = sns.barplot(data=weekly_rev.loc[weekly_rev[\"week_id\"].between(prior_week, bf_week)],\n",
    "                 x=\"week_id\",\n",
    "                 y=\"revenue\");\n",
    "\n",
    "ax.axhline(weekly_rev.loc[weekly_rev[\"week_id\"] == prior_week, \"revenue\"].values[0], color=\"r\");"
   ]
  },
  {
   "cell_type": "markdown",
   "metadata": {},
   "source": [
    "Calculate the attributable revenue for the Black Friday campaign"
   ]
  },
  {
   "cell_type": "code",
   "execution_count": 13,
   "metadata": {},
   "outputs": [],
   "source": [
    "rev_prior_week = weekly_rev.loc[weekly_rev[\"week_id\"] == prior_week, \"revenue\"].values[0]\n",
    "rev_bf_week = weekly_rev.loc[weekly_rev[\"week_id\"] == bf_week, \"revenue\"].values[0]"
   ]
  },
  {
   "cell_type": "code",
   "execution_count": 14,
   "metadata": {},
   "outputs": [],
   "source": [
    "abs_diff = rev_bf_week - rev_prior_week\n",
    "rel_diff = (rev_bf_week / rev_prior_week) - 1"
   ]
  },
  {
   "cell_type": "code",
   "execution_count": 15,
   "metadata": {},
   "outputs": [
    {
     "name": "stdout",
     "output_type": "stream",
     "text": [
      "The revenue for the week including the Black Friday promotion increased by 131.58% \n",
      "compared to the prior week. Assuming the Black Friday promotion accounts for the entire difference, we were \n",
      "able to increase our revenue by 231349.37 Reais\n"
     ]
    }
   ],
   "source": [
    "print(f\"\"\"The revenue for the week including the Black Friday promotion increased by {round(rel_diff * 100, 2)}% \n",
    "compared to the prior week. Assuming the Black Friday promotion accounts for the entire difference, we were \n",
    "able to increase our revenue by {round(abs_diff, 2)} Reais\"\"\")"
   ]
  },
  {
   "cell_type": "markdown",
   "metadata": {},
   "source": [
    "**Conclusion: We should definitely run the campaign again!**"
   ]
  },
  {
   "cell_type": "code",
   "execution_count": 16,
   "metadata": {},
   "outputs": [
    {
     "data": {
      "image/png": "[encoded data removed]",
      "text/plain": [
       "<Figure size 864x576 with 1 Axes>"
      ]
     },
     "metadata": {},
     "output_type": "display_data"
    }
   ],
   "source": [
    "fig, ax = plt.subplots(figsize=(12,8))\n",
    "\n",
    "sns.lineplot(data=weekly_rev,\n",
    "             x=\"week_id\",\n",
    "             y=\"revenue\",\n",
    "             ax=ax);\n",
    "\n",
    "ax.axvline(pd.to_datetime(\"2017-11-20\"), color=\"r\");\n",
    "ax.axvline(pd.to_datetime(\"2017-10-16\"), color=\"grey\");\n",
    "ax.axvline(pd.to_datetime(\"2018-01-01\"), color=\"grey\");"
   ]
  },
  {
   "cell_type": "markdown",
   "metadata": {},
   "source": [
    "We can see that the week of the Black Friday campaign significantly increased our revenue. The graph however, suggests that devenue declined to a lower level than before, in the few weeks after the promotion. The same might apply to a few weeks prior to the promotion. One possible explanation is that consumers pre- (hangover) or postponed their purchase decision in anticipation of paying less during the Black Friday promotion. \n",
    "\n",
    "# Approach 2:\n",
    "\n",
    "Consider a change in comsumer's purchase decision by including weeks prior and after the Black Friday promotion"
   ]
  },
  {
   "cell_type": "code",
   "execution_count": 17,
   "metadata": {},
   "outputs": [],
   "source": [
    "lb = \"2017-10-16\"\n",
    "ub = \"2017-12-25\""
   ]
  },
  {
   "cell_type": "code",
   "execution_count": 18,
   "metadata": {},
   "outputs": [
    {
     "data": {
      "image/png": "[encoded data removed]",
      "text/plain": [
       "<Figure size 432x288 with 1 Axes>"
      ]
     },
     "metadata": {},
     "output_type": "display_data"
    }
   ],
   "source": [
    "ax = sns.barplot(data=weekly_rev.loc[weekly_rev[\"week_id\"].between(lb, ub)],\n",
    "                 x=\"week_id\",\n",
    "                 y=\"revenue\");\n",
    "\n",
    "ax.axhline(weekly_rev.loc[weekly_rev[\"week_id\"] == lb, \"revenue\"].values[0], color=\"r\");"
   ]
  },
  {
   "cell_type": "code",
   "execution_count": 32,
   "metadata": {},
   "outputs": [],
   "source": [
    "first_week = \"2017-10-23\"\n",
    "app_2 = weekly_rev.loc[weekly_rev[\"week_id\"].between(first_week, ub)].copy()"
   ]
  },
  {
   "cell_type": "code",
   "execution_count": 34,
   "metadata": {},
   "outputs": [
    {
     "data": {
      "text/plain": [
       "164132.88989830017"
      ]
     },
     "execution_count": 34,
     "metadata": {},
     "output_type": "execute_result"
    }
   ],
   "source": [
    "# establish the baseline\n",
    "weekly_rev.loc[weekly_rev[\"week_id\"] == lb, \"revenue\"].values[0]"
   ]
  },
  {
   "cell_type": "code",
   "execution_count": 36,
   "metadata": {},
   "outputs": [
    {
     "data": {
      "text/html": [
       "<div>\n",
       "<style scoped>\n",
       "    .dataframe tbody tr th:only-of-type {\n",
       "        vertical-align: middle;\n",
       "    }\n",
       "\n",
       "    .dataframe tbody tr th {\n",
       "        vertical-align: top;\n",
       "    }\n",
       "\n",
       "    .dataframe thead th {\n",
       "        text-align: right;\n",
       "    }\n",
       "</style>\n",
       "<table border=\"1\" class=\"dataframe\">\n",
       "  <thead>\n",
       "    <tr style=\"text-align: right;\">\n",
       "      <th></th>\n",
       "      <th>week_id</th>\n",
       "      <th>revenue</th>\n",
       "      <th>baseline</th>\n",
       "    </tr>\n",
       "  </thead>\n",
       "  <tbody>\n",
       "    <tr>\n",
       "      <th>42</th>\n",
       "      <td>2017-10-23</td>\n",
       "      <td>138558.520192</td>\n",
       "      <td>164132.889898</td>\n",
       "    </tr>\n",
       "    <tr>\n",
       "      <th>43</th>\n",
       "      <td>2017-10-30</td>\n",
       "      <td>144022.130485</td>\n",
       "      <td>164132.889898</td>\n",
       "    </tr>\n",
       "    <tr>\n",
       "      <th>44</th>\n",
       "      <td>2017-11-06</td>\n",
       "      <td>160327.020368</td>\n",
       "      <td>164132.889898</td>\n",
       "    </tr>\n",
       "    <tr>\n",
       "      <th>45</th>\n",
       "      <td>2017-11-13</td>\n",
       "      <td>175819.690094</td>\n",
       "      <td>164132.889898</td>\n",
       "    </tr>\n",
       "    <tr>\n",
       "      <th>46</th>\n",
       "      <td>2017-11-20</td>\n",
       "      <td>407169.060410</td>\n",
       "      <td>164132.889898</td>\n",
       "    </tr>\n",
       "    <tr>\n",
       "      <th>47</th>\n",
       "      <td>2017-11-27</td>\n",
       "      <td>267420.659656</td>\n",
       "      <td>164132.889898</td>\n",
       "    </tr>\n",
       "    <tr>\n",
       "      <th>48</th>\n",
       "      <td>2017-12-04</td>\n",
       "      <td>222805.700109</td>\n",
       "      <td>164132.889898</td>\n",
       "    </tr>\n",
       "    <tr>\n",
       "      <th>49</th>\n",
       "      <td>2017-12-11</td>\n",
       "      <td>189337.499647</td>\n",
       "      <td>164132.889898</td>\n",
       "    </tr>\n",
       "    <tr>\n",
       "      <th>50</th>\n",
       "      <td>2017-12-18</td>\n",
       "      <td>129878.209996</td>\n",
       "      <td>164132.889898</td>\n",
       "    </tr>\n",
       "    <tr>\n",
       "      <th>51</th>\n",
       "      <td>2017-12-25</td>\n",
       "      <td>101439.800245</td>\n",
       "      <td>164132.889898</td>\n",
       "    </tr>\n",
       "  </tbody>\n",
       "</table>\n",
       "</div>"
      ],
      "text/plain": [
       "      week_id        revenue       baseline\n",
       "42 2017-10-23  138558.520192  164132.889898\n",
       "43 2017-10-30  144022.130485  164132.889898\n",
       "44 2017-11-06  160327.020368  164132.889898\n",
       "45 2017-11-13  175819.690094  164132.889898\n",
       "46 2017-11-20  407169.060410  164132.889898\n",
       "47 2017-11-27  267420.659656  164132.889898\n",
       "48 2017-12-04  222805.700109  164132.889898\n",
       "49 2017-12-11  189337.499647  164132.889898\n",
       "50 2017-12-18  129878.209996  164132.889898\n",
       "51 2017-12-25  101439.800245  164132.889898"
      ]
     },
     "execution_count": 36,
     "metadata": {},
     "output_type": "execute_result"
    }
   ],
   "source": [
    "app_2 = app_2.assign(baseline=weekly_rev.loc[weekly_rev[\"week_id\"] == lb, \"revenue\"].values[0])\n",
    "app_2"
   ]
  },
  {
   "cell_type": "code",
   "execution_count": 39,
   "metadata": {},
   "outputs": [
    {
     "data": {
      "text/html": [
       "<div>\n",
       "<style scoped>\n",
       "    .dataframe tbody tr th:only-of-type {\n",
       "        vertical-align: middle;\n",
       "    }\n",
       "\n",
       "    .dataframe tbody tr th {\n",
       "        vertical-align: top;\n",
       "    }\n",
       "\n",
       "    .dataframe thead th {\n",
       "        text-align: right;\n",
       "    }\n",
       "</style>\n",
       "<table border=\"1\" class=\"dataframe\">\n",
       "  <thead>\n",
       "    <tr style=\"text-align: right;\">\n",
       "      <th></th>\n",
       "      <th>week_id</th>\n",
       "      <th>revenue</th>\n",
       "      <th>baseline</th>\n",
       "      <th>abs_diff</th>\n",
       "    </tr>\n",
       "  </thead>\n",
       "  <tbody>\n",
       "    <tr>\n",
       "      <th>42</th>\n",
       "      <td>2017-10-23</td>\n",
       "      <td>138558.520192</td>\n",
       "      <td>164132.889898</td>\n",
       "      <td>-25574.369706</td>\n",
       "    </tr>\n",
       "    <tr>\n",
       "      <th>43</th>\n",
       "      <td>2017-10-30</td>\n",
       "      <td>144022.130485</td>\n",
       "      <td>164132.889898</td>\n",
       "      <td>-20110.759413</td>\n",
       "    </tr>\n",
       "    <tr>\n",
       "      <th>44</th>\n",
       "      <td>2017-11-06</td>\n",
       "      <td>160327.020368</td>\n",
       "      <td>164132.889898</td>\n",
       "      <td>-3805.869530</td>\n",
       "    </tr>\n",
       "    <tr>\n",
       "      <th>45</th>\n",
       "      <td>2017-11-13</td>\n",
       "      <td>175819.690094</td>\n",
       "      <td>164132.889898</td>\n",
       "      <td>11686.800196</td>\n",
       "    </tr>\n",
       "    <tr>\n",
       "      <th>46</th>\n",
       "      <td>2017-11-20</td>\n",
       "      <td>407169.060410</td>\n",
       "      <td>164132.889898</td>\n",
       "      <td>243036.170512</td>\n",
       "    </tr>\n",
       "    <tr>\n",
       "      <th>47</th>\n",
       "      <td>2017-11-27</td>\n",
       "      <td>267420.659656</td>\n",
       "      <td>164132.889898</td>\n",
       "      <td>103287.769757</td>\n",
       "    </tr>\n",
       "    <tr>\n",
       "      <th>48</th>\n",
       "      <td>2017-12-04</td>\n",
       "      <td>222805.700109</td>\n",
       "      <td>164132.889898</td>\n",
       "      <td>58672.810211</td>\n",
       "    </tr>\n",
       "    <tr>\n",
       "      <th>49</th>\n",
       "      <td>2017-12-11</td>\n",
       "      <td>189337.499647</td>\n",
       "      <td>164132.889898</td>\n",
       "      <td>25204.609748</td>\n",
       "    </tr>\n",
       "    <tr>\n",
       "      <th>50</th>\n",
       "      <td>2017-12-18</td>\n",
       "      <td>129878.209996</td>\n",
       "      <td>164132.889898</td>\n",
       "      <td>-34254.679902</td>\n",
       "    </tr>\n",
       "    <tr>\n",
       "      <th>51</th>\n",
       "      <td>2017-12-25</td>\n",
       "      <td>101439.800245</td>\n",
       "      <td>164132.889898</td>\n",
       "      <td>-62693.089653</td>\n",
       "    </tr>\n",
       "  </tbody>\n",
       "</table>\n",
       "</div>"
      ],
      "text/plain": [
       "      week_id        revenue       baseline       abs_diff\n",
       "42 2017-10-23  138558.520192  164132.889898  -25574.369706\n",
       "43 2017-10-30  144022.130485  164132.889898  -20110.759413\n",
       "44 2017-11-06  160327.020368  164132.889898   -3805.869530\n",
       "45 2017-11-13  175819.690094  164132.889898   11686.800196\n",
       "46 2017-11-20  407169.060410  164132.889898  243036.170512\n",
       "47 2017-11-27  267420.659656  164132.889898  103287.769757\n",
       "48 2017-12-04  222805.700109  164132.889898   58672.810211\n",
       "49 2017-12-11  189337.499647  164132.889898   25204.609748\n",
       "50 2017-12-18  129878.209996  164132.889898  -34254.679902\n",
       "51 2017-12-25  101439.800245  164132.889898  -62693.089653"
      ]
     },
     "execution_count": 39,
     "metadata": {},
     "output_type": "execute_result"
    }
   ],
   "source": [
    "# calculate the difference\n",
    "app_2 = app_2.assign(abs_diff=app_2[\"revenue\"] - app_2[\"baseline\"])\n",
    "app_2"
   ]
  },
  {
   "cell_type": "code",
   "execution_count": 40,
   "metadata": {},
   "outputs": [
    {
     "data": {
      "text/plain": [
       "295449.39221954346"
      ]
     },
     "execution_count": 40,
     "metadata": {},
     "output_type": "execute_result"
    }
   ],
   "source": [
    "app_2[\"abs_diff\"].sum()"
   ]
  },
  {
   "cell_type": "code",
   "execution_count": 41,
   "metadata": {},
   "outputs": [],
   "source": [
    "abs_diff_2 = app_2[\"abs_diff\"].sum()\n",
    "rel_diff_2 = app_2[\"abs_diff\"].sum() / app_2[\"revenue\"].sum()"
   ]
  },
  {
   "cell_type": "code",
   "execution_count": 42,
   "metadata": {},
   "outputs": [
    {
     "name": "stdout",
     "output_type": "stream",
     "text": [
      "The revenue for the weeks influenced by the Black Friday promotion increased by 15.25% \n",
      "compared to our baseline. Assuming the Black Friday promotion accounts for the entire difference, we were \n",
      "able to increase our revenue by 295449.39 Reais\n"
     ]
    }
   ],
   "source": [
    "print(f\"\"\"The revenue for the weeks influenced by the Black Friday promotion increased by {round(rel_diff_2 * 100, 2)}% \n",
    "compared to our baseline. Assuming the Black Friday promotion accounts for the entire difference, we were \n",
    "able to increase our revenue by {round(abs_diff_2, 2)} Reais\"\"\")"
   ]
  },
  {
   "cell_type": "markdown",
   "metadata": {},
   "source": [
    "**Conclusion: We should definitely run the campaign again!**"
   ]
  },
  {
   "cell_type": "code",
   "execution_count": 43,
   "metadata": {},
   "outputs": [
    {
     "data": {
      "image/png": "[encoded data removed]",
      "text/plain": [
       "<Figure size 864x576 with 1 Axes>"
      ]
     },
     "metadata": {},
     "output_type": "display_data"
    }
   ],
   "source": [
    "fig, ax = plt.subplots(figsize=(12,8))\n",
    "\n",
    "sns.lineplot(data=weekly_rev,\n",
    "             x=\"week_id\",\n",
    "             y=\"revenue\",\n",
    "             ax=ax);\n",
    "\n",
    "ax.axvline(pd.to_datetime(\"2017-11-20\"), color=\"r\");\n",
    "ax.axvline(pd.to_datetime(\"2017-10-16\"), color=\"grey\");\n",
    "ax.axvline(pd.to_datetime(\"2018-01-01\"), color=\"grey\");"
   ]
  },
  {
   "cell_type": "markdown",
   "metadata": {},
   "source": [
    "# Approach 3: Accounting for trend\n",
    "\n",
    "So far, we have used one time period prior to the affected time range as a benchmark for predicted revenue (baseline). As can be seen clearly in the graph, revenue has had a positive trend when looking at the data from Jan 2017 until Oct 2017. In case there is in fact a positive trend, we might have overestimated the impact of the Black Friday campaign as part of the increase in revenue could plausibly be attributed to the general growth. \n",
    "\n",
    "In the following, we want to model `revenue` as a linear function that depends on time, so that we can account for the trend.\n",
    "\n",
    "$revenue_t = c + t * trend$\n",
    "\n",
    "$y_t = c + t * trend$\n",
    "\n",
    "We are finding the best 'fitted line' to predict our baseline\n",
    "\n",
    "- 1. Get data from 'before black friday impact date range'\n",
    "- 2. Calculate parameters for model\n",
    "- 3. Predict revenue for 'black friday impact date range' -> Baseline\n",
    "- 4. Calculate the difference\n",
    "\n",
    "**1. Get data from 'before black friday impact date range'**"
   ]
  },
  {
   "cell_type": "code",
   "execution_count": 46,
   "metadata": {},
   "outputs": [],
   "source": [
    "first_week = \"2017-10-16\"\n",
    "app_3 = weekly_rev.loc[weekly_rev[\"week_id\"] <= first_week]"
   ]
  },
  {
   "cell_type": "code",
   "execution_count": 48,
   "metadata": {},
   "outputs": [
    {
     "data": {
      "image/png": "[encoded data removed]",
      "text/plain": [
       "<Figure size 432x288 with 1 Axes>"
      ]
     },
     "metadata": {},
     "output_type": "display_data"
    }
   ],
   "source": [
    "app_3.set_index(\"week_id\").plot();"
   ]
  },
  {
   "cell_type": "code",
   "execution_count": 52,
   "metadata": {},
   "outputs": [],
   "source": [
    "app_3 = app_3.assign(t=range(1, len(app_3) + 1))"
   ]
  },
  {
   "cell_type": "code",
   "execution_count": 55,
   "metadata": {},
   "outputs": [
    {
     "data": {
      "image/png": "[encoded data removed]",
      "text/plain": [
       "<Figure size 432x288 with 1 Axes>"
      ]
     },
     "metadata": {},
     "output_type": "display_data"
    }
   ],
   "source": [
    "sns.lineplot(data=app_3,\n",
    "             x=\"t\",\n",
    "             y=\"revenue\");"
   ]
  },
  {
   "cell_type": "code",
   "execution_count": 57,
   "metadata": {},
   "outputs": [
    {
     "data": {
      "text/html": [
       "<div>\n",
       "<style scoped>\n",
       "    .dataframe tbody tr th:only-of-type {\n",
       "        vertical-align: middle;\n",
       "    }\n",
       "\n",
       "    .dataframe tbody tr th {\n",
       "        vertical-align: top;\n",
       "    }\n",
       "\n",
       "    .dataframe thead th {\n",
       "        text-align: right;\n",
       "    }\n",
       "</style>\n",
       "<table border=\"1\" class=\"dataframe\">\n",
       "  <thead>\n",
       "    <tr style=\"text-align: right;\">\n",
       "      <th></th>\n",
       "      <th>week_id</th>\n",
       "      <th>revenue</th>\n",
       "      <th>t</th>\n",
       "    </tr>\n",
       "  </thead>\n",
       "  <tbody>\n",
       "    <tr>\n",
       "      <th>0</th>\n",
       "      <td>2017-01-02</td>\n",
       "      <td>3374.759989</td>\n",
       "      <td>1</td>\n",
       "    </tr>\n",
       "    <tr>\n",
       "      <th>1</th>\n",
       "      <td>2017-01-09</td>\n",
       "      <td>12937.239933</td>\n",
       "      <td>2</td>\n",
       "    </tr>\n",
       "    <tr>\n",
       "      <th>2</th>\n",
       "      <td>2017-01-16</td>\n",
       "      <td>24310.460104</td>\n",
       "      <td>3</td>\n",
       "    </tr>\n",
       "    <tr>\n",
       "      <th>3</th>\n",
       "      <td>2017-01-23</td>\n",
       "      <td>57773.149855</td>\n",
       "      <td>4</td>\n",
       "    </tr>\n",
       "    <tr>\n",
       "      <th>4</th>\n",
       "      <td>2017-01-30</td>\n",
       "      <td>71710.339832</td>\n",
       "      <td>5</td>\n",
       "    </tr>\n",
       "  </tbody>\n",
       "</table>\n",
       "</div>"
      ],
      "text/plain": [
       "     week_id       revenue  t\n",
       "0 2017-01-02   3374.759989  1\n",
       "1 2017-01-09  12937.239933  2\n",
       "2 2017-01-16  24310.460104  3\n",
       "3 2017-01-23  57773.149855  4\n",
       "4 2017-01-30  71710.339832  5"
      ]
     },
     "execution_count": 57,
     "metadata": {},
     "output_type": "execute_result"
    }
   ],
   "source": [
    "app_3.head()"
   ]
  },
  {
   "cell_type": "code",
   "execution_count": 60,
   "metadata": {},
   "outputs": [],
   "source": [
    "app_3 = app_3.assign(const=1)"
   ]
  },
  {
   "cell_type": "code",
   "execution_count": 63,
   "metadata": {},
   "outputs": [],
   "source": [
    "X = app_3[[\"const\", \"t\"]]\n",
    "y = app_3[\"revenue\"]\n",
    "\n",
    "lin_reg = sm.OLS(y, X)\n",
    "results = lin_reg.fit()"
   ]
  },
  {
   "cell_type": "code",
   "execution_count": 64,
   "metadata": {},
   "outputs": [
    {
     "data": {
      "text/html": [
       "<table class=\"simpletable\">\n",
       "<caption>OLS Regression Results</caption>\n",
       "<tr>\n",
       "  <th>Dep. Variable:</th>         <td>revenue</td>     <th>  R-squared:         </th> <td>   0.801</td>\n",
       "</tr>\n",
       "<tr>\n",
       "  <th>Model:</th>                   <td>OLS</td>       <th>  Adj. R-squared:    </th> <td>   0.796</td>\n",
       "</tr>\n",
       "<tr>\n",
       "  <th>Method:</th>             <td>Least Squares</td>  <th>  F-statistic:       </th> <td>   160.5</td>\n",
       "</tr>\n",
       "<tr>\n",
       "  <th>Date:</th>             <td>Mon, 29 Jun 2020</td> <th>  Prob (F-statistic):</th> <td>1.39e-15</td>\n",
       "</tr>\n",
       "<tr>\n",
       "  <th>Time:</th>                 <td>15:10:13</td>     <th>  Log-Likelihood:    </th> <td> -469.09</td>\n",
       "</tr>\n",
       "<tr>\n",
       "  <th>No. Observations:</th>      <td>    42</td>      <th>  AIC:               </th> <td>   942.2</td>\n",
       "</tr>\n",
       "<tr>\n",
       "  <th>Df Residuals:</th>          <td>    40</td>      <th>  BIC:               </th> <td>   945.7</td>\n",
       "</tr>\n",
       "<tr>\n",
       "  <th>Df Model:</th>              <td>     1</td>      <th>                     </th>     <td> </td>   \n",
       "</tr>\n",
       "<tr>\n",
       "  <th>Covariance Type:</th>      <td>nonrobust</td>    <th>                     </th>     <td> </td>   \n",
       "</tr>\n",
       "</table>\n",
       "<table class=\"simpletable\">\n",
       "<tr>\n",
       "    <td></td>       <th>coef</th>     <th>std err</th>      <th>t</th>      <th>P>|t|</th>  <th>[0.025</th>    <th>0.975]</th>  \n",
       "</tr>\n",
       "<tr>\n",
       "  <th>const</th> <td>  3.95e+04</td> <td> 5522.229</td> <td>    7.152</td> <td> 0.000</td> <td> 2.83e+04</td> <td> 5.07e+04</td>\n",
       "</tr>\n",
       "<tr>\n",
       "  <th>t</th>     <td> 2834.8026</td> <td>  223.741</td> <td>   12.670</td> <td> 0.000</td> <td> 2382.604</td> <td> 3287.001</td>\n",
       "</tr>\n",
       "</table>\n",
       "<table class=\"simpletable\">\n",
       "<tr>\n",
       "  <th>Omnibus:</th>       <td> 0.090</td> <th>  Durbin-Watson:     </th> <td>   1.341</td>\n",
       "</tr>\n",
       "<tr>\n",
       "  <th>Prob(Omnibus):</th> <td> 0.956</td> <th>  Jarque-Bera (JB):  </th> <td>   0.072</td>\n",
       "</tr>\n",
       "<tr>\n",
       "  <th>Skew:</th>          <td>-0.070</td> <th>  Prob(JB):          </th> <td>   0.965</td>\n",
       "</tr>\n",
       "<tr>\n",
       "  <th>Kurtosis:</th>      <td> 2.854</td> <th>  Cond. No.          </th> <td>    50.3</td>\n",
       "</tr>\n",
       "</table><br/><br/>Warnings:<br/>[1] Standard Errors assume that the covariance matrix of the errors is correctly specified."
      ],
      "text/plain": [
       "<class 'statsmodels.iolib.summary.Summary'>\n",
       "\"\"\"\n",
       "                            OLS Regression Results                            \n",
       "==============================================================================\n",
       "Dep. Variable:                revenue   R-squared:                       0.801\n",
       "Model:                            OLS   Adj. R-squared:                  0.796\n",
       "Method:                 Least Squares   F-statistic:                     160.5\n",
       "Date:                Mon, 29 Jun 2020   Prob (F-statistic):           1.39e-15\n",
       "Time:                        15:10:13   Log-Likelihood:                -469.09\n",
       "No. Observations:                  42   AIC:                             942.2\n",
       "Df Residuals:                      40   BIC:                             945.7\n",
       "Df Model:                           1                                         \n",
       "Covariance Type:            nonrobust                                         \n",
       "==============================================================================\n",
       "                 coef    std err          t      P>|t|      [0.025      0.975]\n",
       "------------------------------------------------------------------------------\n",
       "const        3.95e+04   5522.229      7.152      0.000    2.83e+04    5.07e+04\n",
       "t           2834.8026    223.741     12.670      0.000    2382.604    3287.001\n",
       "==============================================================================\n",
       "Omnibus:                        0.090   Durbin-Watson:                   1.341\n",
       "Prob(Omnibus):                  0.956   Jarque-Bera (JB):                0.072\n",
       "Skew:                          -0.070   Prob(JB):                        0.965\n",
       "Kurtosis:                       2.854   Cond. No.                         50.3\n",
       "==============================================================================\n",
       "\n",
       "Warnings:\n",
       "[1] Standard Errors assume that the covariance matrix of the errors is correctly specified.\n",
       "\"\"\""
      ]
     },
     "execution_count": 64,
     "metadata": {},
     "output_type": "execute_result"
    }
   ],
   "source": [
    "results.summary()"
   ]
  },
  {
   "cell_type": "markdown",
   "metadata": {},
   "source": [
    "$revenue_t = 39500 + 2834.8 * t$"
   ]
  },
  {
   "cell_type": "code",
   "execution_count": 67,
   "metadata": {},
   "outputs": [
    {
     "data": {
      "image/png": "[encoded data removed]",
      "text/plain": [
       "<Figure size 720x432 with 1 Axes>"
      ]
     },
     "metadata": {},
     "output_type": "display_data"
    }
   ],
   "source": [
    "fig, ax = plt.subplots(figsize=(10,6))\n",
    "sns.lineplot(data=app_3,\n",
    "             x=\"t\",\n",
    "             y=\"revenue\");\n",
    "\n",
    "sm.graphics.abline_plot(model_results=results, color=\"green\", ax=ax);"
   ]
  },
  {
   "cell_type": "code",
   "execution_count": 71,
   "metadata": {},
   "outputs": [],
   "source": [
    "app_3 = app_3.assign(pred_revenue=results.predict(X))"
   ]
  },
  {
   "cell_type": "code",
   "execution_count": 73,
   "metadata": {},
   "outputs": [],
   "source": [
    "def fit_values(t):\n",
    "    return 39500 + (2834.8 * t)"
   ]
  },
  {
   "cell_type": "code",
   "execution_count": 76,
   "metadata": {},
   "outputs": [
    {
     "data": {
      "text/plain": [
       "53674.0"
      ]
     },
     "execution_count": 76,
     "metadata": {},
     "output_type": "execute_result"
    }
   ],
   "source": [
    "fit_values(5)"
   ]
  },
  {
   "cell_type": "code",
   "execution_count": 78,
   "metadata": {},
   "outputs": [],
   "source": [
    "app_3 = app_3.assign(manual_pred_revenue=app_3[\"t\"].apply(fit_values))"
   ]
  },
  {
   "cell_type": "code",
   "execution_count": 79,
   "metadata": {},
   "outputs": [
    {
     "data": {
      "text/html": [
       "<div>\n",
       "<style scoped>\n",
       "    .dataframe tbody tr th:only-of-type {\n",
       "        vertical-align: middle;\n",
       "    }\n",
       "\n",
       "    .dataframe tbody tr th {\n",
       "        vertical-align: top;\n",
       "    }\n",
       "\n",
       "    .dataframe thead th {\n",
       "        text-align: right;\n",
       "    }\n",
       "</style>\n",
       "<table border=\"1\" class=\"dataframe\">\n",
       "  <thead>\n",
       "    <tr style=\"text-align: right;\">\n",
       "      <th></th>\n",
       "      <th>week_id</th>\n",
       "      <th>revenue</th>\n",
       "      <th>t</th>\n",
       "      <th>const</th>\n",
       "      <th>pred_revenue</th>\n",
       "      <th>manual_pred_revenue</th>\n",
       "    </tr>\n",
       "  </thead>\n",
       "  <tbody>\n",
       "    <tr>\n",
       "      <th>0</th>\n",
       "      <td>2017-01-02</td>\n",
       "      <td>3374.759989</td>\n",
       "      <td>1</td>\n",
       "      <td>1</td>\n",
       "      <td>42331.374024</td>\n",
       "      <td>42334.8</td>\n",
       "    </tr>\n",
       "    <tr>\n",
       "      <th>1</th>\n",
       "      <td>2017-01-09</td>\n",
       "      <td>12937.239933</td>\n",
       "      <td>2</td>\n",
       "      <td>1</td>\n",
       "      <td>45166.176602</td>\n",
       "      <td>45169.6</td>\n",
       "    </tr>\n",
       "    <tr>\n",
       "      <th>2</th>\n",
       "      <td>2017-01-16</td>\n",
       "      <td>24310.460104</td>\n",
       "      <td>3</td>\n",
       "      <td>1</td>\n",
       "      <td>48000.979179</td>\n",
       "      <td>48004.4</td>\n",
       "    </tr>\n",
       "    <tr>\n",
       "      <th>3</th>\n",
       "      <td>2017-01-23</td>\n",
       "      <td>57773.149855</td>\n",
       "      <td>4</td>\n",
       "      <td>1</td>\n",
       "      <td>50835.781757</td>\n",
       "      <td>50839.2</td>\n",
       "    </tr>\n",
       "    <tr>\n",
       "      <th>4</th>\n",
       "      <td>2017-01-30</td>\n",
       "      <td>71710.339832</td>\n",
       "      <td>5</td>\n",
       "      <td>1</td>\n",
       "      <td>53670.584334</td>\n",
       "      <td>53674.0</td>\n",
       "    </tr>\n",
       "    <tr>\n",
       "      <th>5</th>\n",
       "      <td>2017-02-06</td>\n",
       "      <td>78487.829980</td>\n",
       "      <td>6</td>\n",
       "      <td>1</td>\n",
       "      <td>56505.386912</td>\n",
       "      <td>56508.8</td>\n",
       "    </tr>\n",
       "    <tr>\n",
       "      <th>6</th>\n",
       "      <td>2017-02-13</td>\n",
       "      <td>54493.939885</td>\n",
       "      <td>7</td>\n",
       "      <td>1</td>\n",
       "      <td>59340.189490</td>\n",
       "      <td>59343.6</td>\n",
       "    </tr>\n",
       "    <tr>\n",
       "      <th>7</th>\n",
       "      <td>2017-02-20</td>\n",
       "      <td>47463.289997</td>\n",
       "      <td>8</td>\n",
       "      <td>1</td>\n",
       "      <td>62174.992067</td>\n",
       "      <td>62178.4</td>\n",
       "    </tr>\n",
       "    <tr>\n",
       "      <th>8</th>\n",
       "      <td>2017-02-27</td>\n",
       "      <td>72974.860144</td>\n",
       "      <td>9</td>\n",
       "      <td>1</td>\n",
       "      <td>65009.794645</td>\n",
       "      <td>65013.2</td>\n",
       "    </tr>\n",
       "    <tr>\n",
       "      <th>9</th>\n",
       "      <td>2017-03-06</td>\n",
       "      <td>78362.159794</td>\n",
       "      <td>10</td>\n",
       "      <td>1</td>\n",
       "      <td>67844.597222</td>\n",
       "      <td>67848.0</td>\n",
       "    </tr>\n",
       "    <tr>\n",
       "      <th>10</th>\n",
       "      <td>2017-03-13</td>\n",
       "      <td>95378.399723</td>\n",
       "      <td>11</td>\n",
       "      <td>1</td>\n",
       "      <td>70679.399800</td>\n",
       "      <td>70682.8</td>\n",
       "    </tr>\n",
       "    <tr>\n",
       "      <th>11</th>\n",
       "      <td>2017-03-20</td>\n",
       "      <td>84931.999918</td>\n",
       "      <td>12</td>\n",
       "      <td>1</td>\n",
       "      <td>73514.202378</td>\n",
       "      <td>73517.6</td>\n",
       "    </tr>\n",
       "    <tr>\n",
       "      <th>12</th>\n",
       "      <td>2017-03-27</td>\n",
       "      <td>86443.029933</td>\n",
       "      <td>13</td>\n",
       "      <td>1</td>\n",
       "      <td>76349.004955</td>\n",
       "      <td>76352.4</td>\n",
       "    </tr>\n",
       "    <tr>\n",
       "      <th>13</th>\n",
       "      <td>2017-04-03</td>\n",
       "      <td>93838.629972</td>\n",
       "      <td>14</td>\n",
       "      <td>1</td>\n",
       "      <td>79183.807533</td>\n",
       "      <td>79187.2</td>\n",
       "    </tr>\n",
       "    <tr>\n",
       "      <th>14</th>\n",
       "      <td>2017-04-10</td>\n",
       "      <td>59888.009829</td>\n",
       "      <td>15</td>\n",
       "      <td>1</td>\n",
       "      <td>82018.610110</td>\n",
       "      <td>82022.0</td>\n",
       "    </tr>\n",
       "    <tr>\n",
       "      <th>15</th>\n",
       "      <td>2017-04-17</td>\n",
       "      <td>87536.829868</td>\n",
       "      <td>16</td>\n",
       "      <td>1</td>\n",
       "      <td>84853.412688</td>\n",
       "      <td>84856.8</td>\n",
       "    </tr>\n",
       "    <tr>\n",
       "      <th>16</th>\n",
       "      <td>2017-04-24</td>\n",
       "      <td>91836.510076</td>\n",
       "      <td>17</td>\n",
       "      <td>1</td>\n",
       "      <td>87688.215265</td>\n",
       "      <td>87691.6</td>\n",
       "    </tr>\n",
       "    <tr>\n",
       "      <th>17</th>\n",
       "      <td>2017-05-01</td>\n",
       "      <td>101140.189787</td>\n",
       "      <td>18</td>\n",
       "      <td>1</td>\n",
       "      <td>90523.017843</td>\n",
       "      <td>90526.4</td>\n",
       "    </tr>\n",
       "    <tr>\n",
       "      <th>18</th>\n",
       "      <td>2017-05-08</td>\n",
       "      <td>113051.559667</td>\n",
       "      <td>19</td>\n",
       "      <td>1</td>\n",
       "      <td>93357.820421</td>\n",
       "      <td>93361.2</td>\n",
       "    </tr>\n",
       "    <tr>\n",
       "      <th>19</th>\n",
       "      <td>2017-05-15</td>\n",
       "      <td>122182.249853</td>\n",
       "      <td>20</td>\n",
       "      <td>1</td>\n",
       "      <td>96192.622998</td>\n",
       "      <td>96196.0</td>\n",
       "    </tr>\n",
       "    <tr>\n",
       "      <th>20</th>\n",
       "      <td>2017-05-22</td>\n",
       "      <td>115800.669989</td>\n",
       "      <td>21</td>\n",
       "      <td>1</td>\n",
       "      <td>99027.425576</td>\n",
       "      <td>99030.8</td>\n",
       "    </tr>\n",
       "    <tr>\n",
       "      <th>21</th>\n",
       "      <td>2017-05-29</td>\n",
       "      <td>116446.650008</td>\n",
       "      <td>22</td>\n",
       "      <td>1</td>\n",
       "      <td>101862.228153</td>\n",
       "      <td>101865.6</td>\n",
       "    </tr>\n",
       "    <tr>\n",
       "      <th>22</th>\n",
       "      <td>2017-06-05</td>\n",
       "      <td>108623.700014</td>\n",
       "      <td>23</td>\n",
       "      <td>1</td>\n",
       "      <td>104697.030731</td>\n",
       "      <td>104700.4</td>\n",
       "    </tr>\n",
       "    <tr>\n",
       "      <th>23</th>\n",
       "      <td>2017-06-12</td>\n",
       "      <td>104007.699948</td>\n",
       "      <td>24</td>\n",
       "      <td>1</td>\n",
       "      <td>107531.833309</td>\n",
       "      <td>107535.2</td>\n",
       "    </tr>\n",
       "    <tr>\n",
       "      <th>24</th>\n",
       "      <td>2017-06-19</td>\n",
       "      <td>87998.430030</td>\n",
       "      <td>25</td>\n",
       "      <td>1</td>\n",
       "      <td>110366.635886</td>\n",
       "      <td>110370.0</td>\n",
       "    </tr>\n",
       "    <tr>\n",
       "      <th>25</th>\n",
       "      <td>2017-06-26</td>\n",
       "      <td>93299.800282</td>\n",
       "      <td>26</td>\n",
       "      <td>1</td>\n",
       "      <td>113201.438464</td>\n",
       "      <td>113204.8</td>\n",
       "    </tr>\n",
       "    <tr>\n",
       "      <th>26</th>\n",
       "      <td>2017-07-03</td>\n",
       "      <td>107175.679934</td>\n",
       "      <td>27</td>\n",
       "      <td>1</td>\n",
       "      <td>116036.241041</td>\n",
       "      <td>116039.6</td>\n",
       "    </tr>\n",
       "    <tr>\n",
       "      <th>27</th>\n",
       "      <td>2017-07-10</td>\n",
       "      <td>114349.250108</td>\n",
       "      <td>28</td>\n",
       "      <td>1</td>\n",
       "      <td>118871.043619</td>\n",
       "      <td>118874.4</td>\n",
       "    </tr>\n",
       "    <tr>\n",
       "      <th>28</th>\n",
       "      <td>2017-07-17</td>\n",
       "      <td>122535.870123</td>\n",
       "      <td>29</td>\n",
       "      <td>1</td>\n",
       "      <td>121705.846196</td>\n",
       "      <td>121709.2</td>\n",
       "    </tr>\n",
       "    <tr>\n",
       "      <th>29</th>\n",
       "      <td>2017-07-24</td>\n",
       "      <td>113056.610104</td>\n",
       "      <td>30</td>\n",
       "      <td>1</td>\n",
       "      <td>124540.648774</td>\n",
       "      <td>124544.0</td>\n",
       "    </tr>\n",
       "    <tr>\n",
       "      <th>30</th>\n",
       "      <td>2017-07-31</td>\n",
       "      <td>120780.100107</td>\n",
       "      <td>31</td>\n",
       "      <td>1</td>\n",
       "      <td>127375.451352</td>\n",
       "      <td>127378.8</td>\n",
       "    </tr>\n",
       "    <tr>\n",
       "      <th>31</th>\n",
       "      <td>2017-08-07</td>\n",
       "      <td>128991.830068</td>\n",
       "      <td>32</td>\n",
       "      <td>1</td>\n",
       "      <td>130210.253929</td>\n",
       "      <td>130213.6</td>\n",
       "    </tr>\n",
       "    <tr>\n",
       "      <th>32</th>\n",
       "      <td>2017-08-14</td>\n",
       "      <td>127107.880407</td>\n",
       "      <td>33</td>\n",
       "      <td>1</td>\n",
       "      <td>133045.056507</td>\n",
       "      <td>133048.4</td>\n",
       "    </tr>\n",
       "    <tr>\n",
       "      <th>33</th>\n",
       "      <td>2017-08-21</td>\n",
       "      <td>106754.079984</td>\n",
       "      <td>34</td>\n",
       "      <td>1</td>\n",
       "      <td>135879.859084</td>\n",
       "      <td>135883.2</td>\n",
       "    </tr>\n",
       "    <tr>\n",
       "      <th>34</th>\n",
       "      <td>2017-08-28</td>\n",
       "      <td>182007.869687</td>\n",
       "      <td>35</td>\n",
       "      <td>1</td>\n",
       "      <td>138714.661662</td>\n",
       "      <td>138718.0</td>\n",
       "    </tr>\n",
       "    <tr>\n",
       "      <th>35</th>\n",
       "      <td>2017-09-04</td>\n",
       "      <td>133213.909926</td>\n",
       "      <td>36</td>\n",
       "      <td>1</td>\n",
       "      <td>141549.464240</td>\n",
       "      <td>141552.8</td>\n",
       "    </tr>\n",
       "    <tr>\n",
       "      <th>36</th>\n",
       "      <td>2017-09-11</td>\n",
       "      <td>160163.879666</td>\n",
       "      <td>37</td>\n",
       "      <td>1</td>\n",
       "      <td>144384.266817</td>\n",
       "      <td>144387.6</td>\n",
       "    </tr>\n",
       "    <tr>\n",
       "      <th>37</th>\n",
       "      <td>2017-09-18</td>\n",
       "      <td>129482.210128</td>\n",
       "      <td>38</td>\n",
       "      <td>1</td>\n",
       "      <td>147219.069395</td>\n",
       "      <td>147222.4</td>\n",
       "    </tr>\n",
       "    <tr>\n",
       "      <th>38</th>\n",
       "      <td>2017-09-25</td>\n",
       "      <td>145965.759845</td>\n",
       "      <td>39</td>\n",
       "      <td>1</td>\n",
       "      <td>150053.871972</td>\n",
       "      <td>150057.2</td>\n",
       "    </tr>\n",
       "    <tr>\n",
       "      <th>39</th>\n",
       "      <td>2017-10-02</td>\n",
       "      <td>143598.140155</td>\n",
       "      <td>40</td>\n",
       "      <td>1</td>\n",
       "      <td>152888.674550</td>\n",
       "      <td>152892.0</td>\n",
       "    </tr>\n",
       "    <tr>\n",
       "      <th>40</th>\n",
       "      <td>2017-10-09</td>\n",
       "      <td>155074.379764</td>\n",
       "      <td>41</td>\n",
       "      <td>1</td>\n",
       "      <td>155723.477127</td>\n",
       "      <td>155726.8</td>\n",
       "    </tr>\n",
       "    <tr>\n",
       "      <th>41</th>\n",
       "      <td>2017-10-16</td>\n",
       "      <td>164132.889898</td>\n",
       "      <td>42</td>\n",
       "      <td>1</td>\n",
       "      <td>158558.279705</td>\n",
       "      <td>158561.6</td>\n",
       "    </tr>\n",
       "  </tbody>\n",
       "</table>\n",
       "</div>"
      ],
      "text/plain": [
       "      week_id        revenue   t  const   pred_revenue  manual_pred_revenue\n",
       "0  2017-01-02    3374.759989   1      1   42331.374024              42334.8\n",
       "1  2017-01-09   12937.239933   2      1   45166.176602              45169.6\n",
       "2  2017-01-16   24310.460104   3      1   48000.979179              48004.4\n",
       "3  2017-01-23   57773.149855   4      1   50835.781757              50839.2\n",
       "4  2017-01-30   71710.339832   5      1   53670.584334              53674.0\n",
       "5  2017-02-06   78487.829980   6      1   56505.386912              56508.8\n",
       "6  2017-02-13   54493.939885   7      1   59340.189490              59343.6\n",
       "7  2017-02-20   47463.289997   8      1   62174.992067              62178.4\n",
       "8  2017-02-27   72974.860144   9      1   65009.794645              65013.2\n",
       "9  2017-03-06   78362.159794  10      1   67844.597222              67848.0\n",
       "10 2017-03-13   95378.399723  11      1   70679.399800              70682.8\n",
       "11 2017-03-20   84931.999918  12      1   73514.202378              73517.6\n",
       "12 2017-03-27   86443.029933  13      1   76349.004955              76352.4\n",
       "13 2017-04-03   93838.629972  14      1   79183.807533              79187.2\n",
       "14 2017-04-10   59888.009829  15      1   82018.610110              82022.0\n",
       "15 2017-04-17   87536.829868  16      1   84853.412688              84856.8\n",
       "16 2017-04-24   91836.510076  17      1   87688.215265              87691.6\n",
       "17 2017-05-01  101140.189787  18      1   90523.017843              90526.4\n",
       "18 2017-05-08  113051.559667  19      1   93357.820421              93361.2\n",
       "19 2017-05-15  122182.249853  20      1   96192.622998              96196.0\n",
       "20 2017-05-22  115800.669989  21      1   99027.425576              99030.8\n",
       "21 2017-05-29  116446.650008  22      1  101862.228153             101865.6\n",
       "22 2017-06-05  108623.700014  23      1  104697.030731             104700.4\n",
       "23 2017-06-12  104007.699948  24      1  107531.833309             107535.2\n",
       "24 2017-06-19   87998.430030  25      1  110366.635886             110370.0\n",
       "25 2017-06-26   93299.800282  26      1  113201.438464             113204.8\n",
       "26 2017-07-03  107175.679934  27      1  116036.241041             116039.6\n",
       "27 2017-07-10  114349.250108  28      1  118871.043619             118874.4\n",
       "28 2017-07-17  122535.870123  29      1  121705.846196             121709.2\n",
       "29 2017-07-24  113056.610104  30      1  124540.648774             124544.0\n",
       "30 2017-07-31  120780.100107  31      1  127375.451352             127378.8\n",
       "31 2017-08-07  128991.830068  32      1  130210.253929             130213.6\n",
       "32 2017-08-14  127107.880407  33      1  133045.056507             133048.4\n",
       "33 2017-08-21  106754.079984  34      1  135879.859084             135883.2\n",
       "34 2017-08-28  182007.869687  35      1  138714.661662             138718.0\n",
       "35 2017-09-04  133213.909926  36      1  141549.464240             141552.8\n",
       "36 2017-09-11  160163.879666  37      1  144384.266817             144387.6\n",
       "37 2017-09-18  129482.210128  38      1  147219.069395             147222.4\n",
       "38 2017-09-25  145965.759845  39      1  150053.871972             150057.2\n",
       "39 2017-10-02  143598.140155  40      1  152888.674550             152892.0\n",
       "40 2017-10-09  155074.379764  41      1  155723.477127             155726.8\n",
       "41 2017-10-16  164132.889898  42      1  158558.279705             158561.6"
      ]
     },
     "execution_count": 79,
     "metadata": {},
     "output_type": "execute_result"
    }
   ],
   "source": [
    "app_3"
   ]
  },
  {
   "cell_type": "code",
   "execution_count": 83,
   "metadata": {},
   "outputs": [],
   "source": [
    "lb = \"2017-10-23\"\n",
    "baseline = weekly_rev.loc[weekly_rev[\"week_id\"].between(lb, ub)]"
   ]
  },
  {
   "cell_type": "code",
   "execution_count": 89,
   "metadata": {},
   "outputs": [],
   "source": [
    "baseline = (baseline\n",
    "            .assign(t=range(43, 43 + len(baseline)))\n",
    "            .assign(const=1))"
   ]
  },
  {
   "cell_type": "code",
   "execution_count": 95,
   "metadata": {},
   "outputs": [],
   "source": [
    "baseline = baseline.assign(pred_revenue=results.predict(baseline[[\"const\", \"t\"]]))"
   ]
  },
  {
   "cell_type": "code",
   "execution_count": 96,
   "metadata": {},
   "outputs": [],
   "source": [
    "baseline = baseline.assign(manual_pred_revenue=baseline[[\"t\"]].apply(fit_values))"
   ]
  },
  {
   "cell_type": "code",
   "execution_count": 100,
   "metadata": {},
   "outputs": [],
   "source": [
    "app_3 = pd.concat([app_3, baseline])"
   ]
  },
  {
   "cell_type": "code",
   "execution_count": 102,
   "metadata": {},
   "outputs": [
    {
     "data": {
      "text/html": [
       "<div>\n",
       "<style scoped>\n",
       "    .dataframe tbody tr th:only-of-type {\n",
       "        vertical-align: middle;\n",
       "    }\n",
       "\n",
       "    .dataframe tbody tr th {\n",
       "        vertical-align: top;\n",
       "    }\n",
       "\n",
       "    .dataframe thead th {\n",
       "        text-align: right;\n",
       "    }\n",
       "</style>\n",
       "<table border=\"1\" class=\"dataframe\">\n",
       "  <thead>\n",
       "    <tr style=\"text-align: right;\">\n",
       "      <th></th>\n",
       "      <th>week_id</th>\n",
       "      <th>revenue</th>\n",
       "      <th>t</th>\n",
       "      <th>const</th>\n",
       "      <th>pred_revenue</th>\n",
       "      <th>manual_pred_revenue</th>\n",
       "    </tr>\n",
       "  </thead>\n",
       "  <tbody>\n",
       "    <tr>\n",
       "      <th>0</th>\n",
       "      <td>2017-01-02</td>\n",
       "      <td>3374.759989</td>\n",
       "      <td>1</td>\n",
       "      <td>1</td>\n",
       "      <td>42331.374024</td>\n",
       "      <td>42334.8</td>\n",
       "    </tr>\n",
       "    <tr>\n",
       "      <th>1</th>\n",
       "      <td>2017-01-09</td>\n",
       "      <td>12937.239933</td>\n",
       "      <td>2</td>\n",
       "      <td>1</td>\n",
       "      <td>45166.176602</td>\n",
       "      <td>45169.6</td>\n",
       "    </tr>\n",
       "    <tr>\n",
       "      <th>2</th>\n",
       "      <td>2017-01-16</td>\n",
       "      <td>24310.460104</td>\n",
       "      <td>3</td>\n",
       "      <td>1</td>\n",
       "      <td>48000.979179</td>\n",
       "      <td>48004.4</td>\n",
       "    </tr>\n",
       "    <tr>\n",
       "      <th>3</th>\n",
       "      <td>2017-01-23</td>\n",
       "      <td>57773.149855</td>\n",
       "      <td>4</td>\n",
       "      <td>1</td>\n",
       "      <td>50835.781757</td>\n",
       "      <td>50839.2</td>\n",
       "    </tr>\n",
       "    <tr>\n",
       "      <th>4</th>\n",
       "      <td>2017-01-30</td>\n",
       "      <td>71710.339832</td>\n",
       "      <td>5</td>\n",
       "      <td>1</td>\n",
       "      <td>53670.584334</td>\n",
       "      <td>53674.0</td>\n",
       "    </tr>\n",
       "  </tbody>\n",
       "</table>\n",
       "</div>"
      ],
      "text/plain": [
       "     week_id       revenue  t  const  pred_revenue  manual_pred_revenue\n",
       "0 2017-01-02   3374.759989  1      1  42331.374024              42334.8\n",
       "1 2017-01-09  12937.239933  2      1  45166.176602              45169.6\n",
       "2 2017-01-16  24310.460104  3      1  48000.979179              48004.4\n",
       "3 2017-01-23  57773.149855  4      1  50835.781757              50839.2\n",
       "4 2017-01-30  71710.339832  5      1  53670.584334              53674.0"
      ]
     },
     "execution_count": 102,
     "metadata": {},
     "output_type": "execute_result"
    }
   ],
   "source": [
    "app_3.head()"
   ]
  },
  {
   "cell_type": "code",
   "execution_count": 110,
   "metadata": {},
   "outputs": [
    {
     "data": {
      "image/png": "[encoded data removed]",
      "text/plain": [
       "<Figure size 720x432 with 1 Axes>"
      ]
     },
     "metadata": {},
     "output_type": "display_data"
    }
   ],
   "source": [
    "fig, ax = plt.subplots(figsize=(10,6))\n",
    "sns.lineplot(data=app_3,\n",
    "             x=\"week_id\",\n",
    "             y=\"revenue\",\n",
    "             ax=ax);\n",
    "sns.lineplot(data=app_3,\n",
    "             x=\"week_id\",\n",
    "             y=\"pred_revenue\",\n",
    "             color=\"green\");\n",
    "ax.axvline(pd.to_datetime(first_week), color=\"r\");"
   ]
  },
  {
   "cell_type": "markdown",
   "metadata": {},
   "source": [
    "Calculate difference"
   ]
  },
  {
   "cell_type": "code",
   "execution_count": 114,
   "metadata": {},
   "outputs": [
    {
     "data": {
      "text/html": [
       "<div>\n",
       "<style scoped>\n",
       "    .dataframe tbody tr th:only-of-type {\n",
       "        vertical-align: middle;\n",
       "    }\n",
       "\n",
       "    .dataframe tbody tr th {\n",
       "        vertical-align: top;\n",
       "    }\n",
       "\n",
       "    .dataframe thead th {\n",
       "        text-align: right;\n",
       "    }\n",
       "</style>\n",
       "<table border=\"1\" class=\"dataframe\">\n",
       "  <thead>\n",
       "    <tr style=\"text-align: right;\">\n",
       "      <th></th>\n",
       "      <th>week_id</th>\n",
       "      <th>revenue</th>\n",
       "      <th>t</th>\n",
       "      <th>const</th>\n",
       "      <th>pred_revenue</th>\n",
       "      <th>manual_pred_revenue</th>\n",
       "      <th>abs_diff</th>\n",
       "    </tr>\n",
       "  </thead>\n",
       "  <tbody>\n",
       "    <tr>\n",
       "      <th>42</th>\n",
       "      <td>2017-10-23</td>\n",
       "      <td>138558.520192</td>\n",
       "      <td>43</td>\n",
       "      <td>1</td>\n",
       "      <td>161393.082283</td>\n",
       "      <td>161396.4</td>\n",
       "      <td>-22834.562091</td>\n",
       "    </tr>\n",
       "    <tr>\n",
       "      <th>43</th>\n",
       "      <td>2017-10-30</td>\n",
       "      <td>144022.130485</td>\n",
       "      <td>44</td>\n",
       "      <td>1</td>\n",
       "      <td>164227.884860</td>\n",
       "      <td>164231.2</td>\n",
       "      <td>-20205.754375</td>\n",
       "    </tr>\n",
       "    <tr>\n",
       "      <th>44</th>\n",
       "      <td>2017-11-06</td>\n",
       "      <td>160327.020368</td>\n",
       "      <td>45</td>\n",
       "      <td>1</td>\n",
       "      <td>167062.687438</td>\n",
       "      <td>167066.0</td>\n",
       "      <td>-6735.667070</td>\n",
       "    </tr>\n",
       "    <tr>\n",
       "      <th>45</th>\n",
       "      <td>2017-11-13</td>\n",
       "      <td>175819.690094</td>\n",
       "      <td>46</td>\n",
       "      <td>1</td>\n",
       "      <td>169897.490015</td>\n",
       "      <td>169900.8</td>\n",
       "      <td>5922.200079</td>\n",
       "    </tr>\n",
       "    <tr>\n",
       "      <th>46</th>\n",
       "      <td>2017-11-20</td>\n",
       "      <td>407169.060410</td>\n",
       "      <td>47</td>\n",
       "      <td>1</td>\n",
       "      <td>172732.292593</td>\n",
       "      <td>172735.6</td>\n",
       "      <td>234436.767817</td>\n",
       "    </tr>\n",
       "    <tr>\n",
       "      <th>47</th>\n",
       "      <td>2017-11-27</td>\n",
       "      <td>267420.659656</td>\n",
       "      <td>48</td>\n",
       "      <td>1</td>\n",
       "      <td>175567.095171</td>\n",
       "      <td>175570.4</td>\n",
       "      <td>91853.564485</td>\n",
       "    </tr>\n",
       "    <tr>\n",
       "      <th>48</th>\n",
       "      <td>2017-12-04</td>\n",
       "      <td>222805.700109</td>\n",
       "      <td>49</td>\n",
       "      <td>1</td>\n",
       "      <td>178401.897748</td>\n",
       "      <td>178405.2</td>\n",
       "      <td>44403.802361</td>\n",
       "    </tr>\n",
       "    <tr>\n",
       "      <th>49</th>\n",
       "      <td>2017-12-11</td>\n",
       "      <td>189337.499647</td>\n",
       "      <td>50</td>\n",
       "      <td>1</td>\n",
       "      <td>181236.700326</td>\n",
       "      <td>181240.0</td>\n",
       "      <td>8100.799321</td>\n",
       "    </tr>\n",
       "    <tr>\n",
       "      <th>50</th>\n",
       "      <td>2017-12-18</td>\n",
       "      <td>129878.209996</td>\n",
       "      <td>51</td>\n",
       "      <td>1</td>\n",
       "      <td>184071.502903</td>\n",
       "      <td>184074.8</td>\n",
       "      <td>-54193.292907</td>\n",
       "    </tr>\n",
       "    <tr>\n",
       "      <th>51</th>\n",
       "      <td>2017-12-25</td>\n",
       "      <td>101439.800245</td>\n",
       "      <td>52</td>\n",
       "      <td>1</td>\n",
       "      <td>186906.305481</td>\n",
       "      <td>186909.6</td>\n",
       "      <td>-85466.505236</td>\n",
       "    </tr>\n",
       "  </tbody>\n",
       "</table>\n",
       "</div>"
      ],
      "text/plain": [
       "      week_id        revenue   t  const   pred_revenue  manual_pred_revenue  \\\n",
       "42 2017-10-23  138558.520192  43      1  161393.082283             161396.4   \n",
       "43 2017-10-30  144022.130485  44      1  164227.884860             164231.2   \n",
       "44 2017-11-06  160327.020368  45      1  167062.687438             167066.0   \n",
       "45 2017-11-13  175819.690094  46      1  169897.490015             169900.8   \n",
       "46 2017-11-20  407169.060410  47      1  172732.292593             172735.6   \n",
       "47 2017-11-27  267420.659656  48      1  175567.095171             175570.4   \n",
       "48 2017-12-04  222805.700109  49      1  178401.897748             178405.2   \n",
       "49 2017-12-11  189337.499647  50      1  181236.700326             181240.0   \n",
       "50 2017-12-18  129878.209996  51      1  184071.502903             184074.8   \n",
       "51 2017-12-25  101439.800245  52      1  186906.305481             186909.6   \n",
       "\n",
       "         abs_diff  \n",
       "42  -22834.562091  \n",
       "43  -20205.754375  \n",
       "44   -6735.667070  \n",
       "45    5922.200079  \n",
       "46  234436.767817  \n",
       "47   91853.564485  \n",
       "48   44403.802361  \n",
       "49    8100.799321  \n",
       "50  -54193.292907  \n",
       "51  -85466.505236  "
      ]
     },
     "execution_count": 114,
     "metadata": {},
     "output_type": "execute_result"
    }
   ],
   "source": [
    "baseline = baseline.assign(abs_diff=baseline[\"revenue\"] - baseline[\"pred_revenue\"])\n",
    "baseline"
   ]
  },
  {
   "cell_type": "code",
   "execution_count": 115,
   "metadata": {},
   "outputs": [],
   "source": [
    "abs_diff_3 = baseline[\"abs_diff\"].sum()\n",
    "rel_diff_3 = abs_diff_3 / baseline[\"revenue\"].sum()"
   ]
  },
  {
   "cell_type": "code",
   "execution_count": 116,
   "metadata": {},
   "outputs": [
    {
     "name": "stdout",
     "output_type": "stream",
     "text": [
      "The revenue for the weeks influenced by the Black Friday promotion increased by 10.08% \n",
      "compared to our baseline. Assuming the Black Friday promotion accounts for the entire difference, we were \n",
      "able to increase our revenue by 195281.35 Reais\n"
     ]
    }
   ],
   "source": [
    "print(f\"\"\"The revenue for the weeks influenced by the Black Friday promotion increased by {round(rel_diff_3 * 100, 2)}% \n",
    "compared to our baseline. Assuming the Black Friday promotion accounts for the entire difference, we were \n",
    "able to increase our revenue by {round(abs_diff_3, 2)} Reais\"\"\")"
   ]
  },
  {
   "cell_type": "markdown",
   "metadata": {},
   "source": [
    "**Conclusion: We should definitely run the campaign again!**"
   ]
  },
  {
   "cell_type": "markdown",
   "metadata": {},
   "source": [
    "# Approach 4: Fit a quadratic line\n",
    "\n",
    "Find coefficients for the following model:\n",
    "\n",
    "$revenue_t = const + t * trend + t^2 * trend_2$"
   ]
  },
  {
   "cell_type": "code",
   "execution_count": 136,
   "metadata": {},
   "outputs": [],
   "source": [
    "app_4 = weekly_rev.loc[weekly_rev[\"week_id\"] <= ub]"
   ]
  },
  {
   "cell_type": "code",
   "execution_count": 137,
   "metadata": {},
   "outputs": [
    {
     "data": {
      "text/html": [
       "<div>\n",
       "<style scoped>\n",
       "    .dataframe tbody tr th:only-of-type {\n",
       "        vertical-align: middle;\n",
       "    }\n",
       "\n",
       "    .dataframe tbody tr th {\n",
       "        vertical-align: top;\n",
       "    }\n",
       "\n",
       "    .dataframe thead th {\n",
       "        text-align: right;\n",
       "    }\n",
       "</style>\n",
       "<table border=\"1\" class=\"dataframe\">\n",
       "  <thead>\n",
       "    <tr style=\"text-align: right;\">\n",
       "      <th></th>\n",
       "      <th>week_id</th>\n",
       "      <th>revenue</th>\n",
       "      <th>t</th>\n",
       "      <th>const</th>\n",
       "    </tr>\n",
       "  </thead>\n",
       "  <tbody>\n",
       "    <tr>\n",
       "      <th>0</th>\n",
       "      <td>2017-01-02</td>\n",
       "      <td>3374.759989</td>\n",
       "      <td>1</td>\n",
       "      <td>1</td>\n",
       "    </tr>\n",
       "    <tr>\n",
       "      <th>1</th>\n",
       "      <td>2017-01-09</td>\n",
       "      <td>12937.239933</td>\n",
       "      <td>2</td>\n",
       "      <td>1</td>\n",
       "    </tr>\n",
       "    <tr>\n",
       "      <th>2</th>\n",
       "      <td>2017-01-16</td>\n",
       "      <td>24310.460104</td>\n",
       "      <td>3</td>\n",
       "      <td>1</td>\n",
       "    </tr>\n",
       "    <tr>\n",
       "      <th>3</th>\n",
       "      <td>2017-01-23</td>\n",
       "      <td>57773.149855</td>\n",
       "      <td>4</td>\n",
       "      <td>1</td>\n",
       "    </tr>\n",
       "    <tr>\n",
       "      <th>4</th>\n",
       "      <td>2017-01-30</td>\n",
       "      <td>71710.339832</td>\n",
       "      <td>5</td>\n",
       "      <td>1</td>\n",
       "    </tr>\n",
       "  </tbody>\n",
       "</table>\n",
       "</div>"
      ],
      "text/plain": [
       "     week_id       revenue  t  const\n",
       "0 2017-01-02   3374.759989  1      1\n",
       "1 2017-01-09  12937.239933  2      1\n",
       "2 2017-01-16  24310.460104  3      1\n",
       "3 2017-01-23  57773.149855  4      1\n",
       "4 2017-01-30  71710.339832  5      1"
      ]
     },
     "execution_count": 137,
     "metadata": {},
     "output_type": "execute_result"
    }
   ],
   "source": [
    "app_4 = (app_4\n",
    "         .assign(t=range(1, len(app_4) + 1))\n",
    "         .assign(const=1))\n",
    "app_4.head()"
   ]
  },
  {
   "cell_type": "code",
   "execution_count": 138,
   "metadata": {},
   "outputs": [],
   "source": [
    "app_4 = app_4.assign(t2=app_4[\"t\"] ** 2)"
   ]
  },
  {
   "cell_type": "code",
   "execution_count": 140,
   "metadata": {},
   "outputs": [],
   "source": [
    "X = app_4.loc[app_4[\"week_id\"] <= first_week, [\"const\", \"t\", \"t2\"]]\n",
    "y = app_4.loc[app_4[\"week_id\"] <= first_week, \"revenue\"]\n",
    "\n",
    "quad_reg = sm.OLS(y, X)\n",
    "results_q = quad_reg.fit()"
   ]
  },
  {
   "cell_type": "code",
   "execution_count": 141,
   "metadata": {},
   "outputs": [],
   "source": [
    "app_4_train = app_4.loc[app_4[\"week_id\"] <= first_week]"
   ]
  },
  {
   "cell_type": "code",
   "execution_count": 142,
   "metadata": {},
   "outputs": [],
   "source": [
    "app_4_train = app_4_train.assign(pred_revenue=results_q.predict(X))"
   ]
  },
  {
   "cell_type": "code",
   "execution_count": 143,
   "metadata": {},
   "outputs": [
    {
     "data": {
      "image/png": "[encoded data removed]",
      "text/plain": [
       "<Figure size 720x432 with 1 Axes>"
      ]
     },
     "metadata": {},
     "output_type": "display_data"
    }
   ],
   "source": [
    "fig, ax = plt.subplots(figsize=(10,6))\n",
    "sns.lineplot(data=app_4_train,\n",
    "             x=\"t\",\n",
    "             y=\"revenue\");\n",
    "\n",
    "sns.lineplot(data=app_4_train,\n",
    "             x=\"t\",\n",
    "             y=\"pred_revenue\",\n",
    "             ax=ax);"
   ]
  },
  {
   "cell_type": "markdown",
   "metadata": {},
   "source": [
    "**Conclusion: We should definitely run the campaign again!**"
   ]
  }
 ],
 "metadata": {
  "kernelspec": {
   "display_name": "Python 3",
   "language": "python",
   "name": "python3"
  },
  "language_info": {
   "codemirror_mode": {
    "name": "ipython",
    "version": 3
   },
   "file_extension": ".py",
   "mimetype": "text/x-python",
   "name": "python",
   "nbconvert_exporter": "python",
   "pygments_lexer": "ipython3",
   "version": "3.8.3"
  }
 },
 "nbformat": 4,
 "nbformat_minor": 4
}
