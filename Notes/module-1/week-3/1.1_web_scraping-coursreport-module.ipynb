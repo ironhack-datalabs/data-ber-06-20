{
 "cells": [
  {
   "cell_type": "code",
   "execution_count": 1,
   "metadata": {},
   "outputs": [],
   "source": [
    "import pull_rankings\n",
    "import pymysql\n",
    "import getpass"
   ]
  },
  {
   "cell_type": "code",
   "execution_count": 2,
   "metadata": {},
   "outputs": [],
   "source": [
    "bootcamps = [\"coding\", \"data-science\", \"online\"]"
   ]
  },
  {
   "cell_type": "code",
   "execution_count": 3,
   "metadata": {},
   "outputs": [],
   "source": [
    "dfs = {ranking: pull_rankings.get_rankings(ranking) for ranking in bootcamps}"
   ]
  },
  {
   "cell_type": "code",
   "execution_count": 4,
   "metadata": {},
   "outputs": [
    {
     "name": "stdout",
     "output_type": "stream",
     "text": [
      "Gimme you password:········\n"
     ]
    }
   ],
   "source": [
    "conn = pymysql.connect(host=\"localhost\",\n",
    "                           port=3306,\n",
    "                           user=\"ironhack\",\n",
    "                           database=\"bootcamp_rankings\",\n",
    "                           passwd=getpass.getpass(\"Gimme you password:\"))"
   ]
  },
  {
   "cell_type": "code",
   "execution_count": 6,
   "metadata": {},
   "outputs": [
    {
     "name": "stdout",
     "output_type": "stream",
     "text": [
      "48 rows written\n",
      "15 rows written\n",
      "35 rows written\n"
     ]
    }
   ],
   "source": [
    "for bc in bootcamps:\n",
    "    df = dfs[bc]\n",
    "\n",
    "    if bc == \"data-science\":\n",
    "        bc = \"data_science\"\n",
    "    insert_query = pull_rankings.create_insert_query(bc, df)\n",
    "    pull_rankings.insert_rows(df, insert_query, conn)"
   ]
  }
 ],
 "metadata": {
  "kernelspec": {
   "display_name": "Python 3",
   "language": "python",
   "name": "python3"
  },
  "language_info": {
   "codemirror_mode": {
    "name": "ipython",
    "version": 3
   },
   "file_extension": ".py",
   "mimetype": "text/x-python",
   "name": "python",
   "nbconvert_exporter": "python",
   "pygments_lexer": "ipython3",
   "version": "3.8.3"
  }
 },
 "nbformat": 4,
 "nbformat_minor": 4
}
