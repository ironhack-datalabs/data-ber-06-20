{
 "cells": [
  {
   "cell_type": "code",
   "execution_count": 61,
   "metadata": {},
   "outputs": [],
   "source": [
    "import pandas as pd\n",
    "import requests\n",
    "import json\n",
    "import pymysql\n",
    "import os\n",
    "import getpass"
   ]
  },
  {
   "cell_type": "code",
   "execution_count": 2,
   "metadata": {},
   "outputs": [],
   "source": [
    "api_key = os.getenv(\"IBM_APIKEY\")"
   ]
  },
  {
   "cell_type": "markdown",
   "metadata": {},
   "source": [
    "# Translate product category names from Portuguese to English\n",
    "## Using IBM Watson Translate API\n",
    "\n",
    "Try to translate a word"
   ]
  },
  {
   "cell_type": "code",
   "execution_count": 25,
   "metadata": {},
   "outputs": [],
   "source": [
    "to_translate = \"hello\""
   ]
  },
  {
   "cell_type": "code",
   "execution_count": 26,
   "metadata": {},
   "outputs": [],
   "source": [
    "url = \"https://api.eu-de.language-translator.watson.cloud.ibm.com/instances/58781bbf-1a05-4c1d-a4ee-338e692fecee/v3/translate?version=2018-05-01\"\n",
    "headers = {\"Content-Type\": \"application/json\"}\n",
    "auth = (\"apikey\", api_key)"
   ]
  },
  {
   "cell_type": "code",
   "execution_count": 27,
   "metadata": {},
   "outputs": [],
   "source": [
    "data = {\"text\":[to_translate],\"model_id\":\"en-es\"}"
   ]
  },
  {
   "cell_type": "code",
   "execution_count": 28,
   "metadata": {},
   "outputs": [
    {
     "data": {
      "text/plain": [
       "'{\"text\": [\"hello\"], \"model_id\": \"en-es\"}'"
      ]
     },
     "execution_count": 28,
     "metadata": {},
     "output_type": "execute_result"
    }
   ],
   "source": [
    "json.dumps(data)"
   ]
  },
  {
   "cell_type": "code",
   "execution_count": 29,
   "metadata": {},
   "outputs": [],
   "source": [
    "r = requests.post(headers=headers, auth=auth, url=url, data=json.dumps(data))"
   ]
  },
  {
   "cell_type": "code",
   "execution_count": 31,
   "metadata": {},
   "outputs": [
    {
     "data": {
      "text/plain": [
       "{'translations': [{'translation': 'hola'}],\n",
       " 'word_count': 1,\n",
       " 'character_count': 5}"
      ]
     },
     "execution_count": 31,
     "metadata": {},
     "output_type": "execute_result"
    }
   ],
   "source": [
    "r.json()"
   ]
  },
  {
   "cell_type": "code",
   "execution_count": 47,
   "metadata": {},
   "outputs": [],
   "source": [
    "def translate_pt_en(en_word):\n",
    "    url = \"https://api.eu-de.language-translator.watson.cloud.ibm.com/instances/58781bbf-1a05-4c1d-a4ee-338e692fecee/v3/translate?version=2018-05-01\"\n",
    "    headers = {\"Content-Type\": \"application/json\"}\n",
    "    auth = (\"apikey\", api_key)\n",
    "    data = {\"text\":[en_word],\"model_id\":\"pt-en\"}\n",
    "    r = requests.post(headers=headers, auth=auth, url=url, data=json.dumps(data))\n",
    "    return r.json()[\"translations\"][0][\"translation\"]"
   ]
  },
  {
   "cell_type": "code",
   "execution_count": 48,
   "metadata": {},
   "outputs": [
    {
     "data": {
      "text/plain": [
       "'drinks'"
      ]
     },
     "execution_count": 48,
     "metadata": {},
     "output_type": "execute_result"
    }
   ],
   "source": [
    "translate_pt_en(\"bebidas\")"
   ]
  },
  {
   "cell_type": "code",
   "execution_count": 49,
   "metadata": {},
   "outputs": [
    {
     "data": {
      "text/plain": [
       "'sport'"
      ]
     },
     "execution_count": 49,
     "metadata": {},
     "output_type": "execute_result"
    }
   ],
   "source": [
    "translate_pt_en(\"esporte\")"
   ]
  },
  {
   "cell_type": "code",
   "execution_count": 50,
   "metadata": {},
   "outputs": [
    {
     "data": {
      "text/plain": [
       "'table'"
      ]
     },
     "execution_count": 50,
     "metadata": {},
     "output_type": "execute_result"
    }
   ],
   "source": [
    "translate_pt_en(\"mesa\")"
   ]
  },
  {
   "cell_type": "code",
   "execution_count": 51,
   "metadata": {},
   "outputs": [
    {
     "data": {
      "text/plain": [
       "'bed'"
      ]
     },
     "execution_count": 51,
     "metadata": {},
     "output_type": "execute_result"
    }
   ],
   "source": [
    "translate_pt_en(\"cama\")"
   ]
  },
  {
   "cell_type": "code",
   "execution_count": 58,
   "metadata": {},
   "outputs": [],
   "source": [
    "def translate_pt_en(list_of_words):\n",
    "    url = \"https://api.eu-de.language-translator.watson.cloud.ibm.com/instances/58781bbf-1a05-4c1d-a4ee-338e692fecee/v3/translate?version=2018-05-01\"\n",
    "    headers = {\"Content-Type\": \"application/json\"}\n",
    "    auth = (\"apikey\", api_key)\n",
    "    data = {\"text\": list_of_words,\"model_id\": \"pt-en\"}\n",
    "    r = requests.post(headers=headers, auth=auth, url=url, data=json.dumps(data))\n",
    "    return [transl[\"translation\"] for transl in r.json()[\"translations\"]]"
   ]
  },
  {
   "cell_type": "code",
   "execution_count": 59,
   "metadata": {},
   "outputs": [
    {
     "data": {
      "text/plain": [
       "['sport', 'table', 'bed']"
      ]
     },
     "execution_count": 59,
     "metadata": {},
     "output_type": "execute_result"
    }
   ],
   "source": [
    "translate_pt_en([\"esporte\", \"mesa\", \"cama\"])"
   ]
  },
  {
   "cell_type": "code",
   "execution_count": 60,
   "metadata": {},
   "outputs": [
    {
     "data": {
      "text/plain": [
       "['cup']"
      ]
     },
     "execution_count": 60,
     "metadata": {},
     "output_type": "execute_result"
    }
   ],
   "source": [
    "translate_pt_en([\"copo\"])"
   ]
  },
  {
   "cell_type": "markdown",
   "metadata": {},
   "source": [
    "# Steps:\n",
    "\n",
    "- 1. Get a list of all unique product category names\n",
    "- 2. clean the strings (if necessary)\n",
    "- 3. create a list with all names that we want to translate\n",
    "- 4. use our function to have this list translated\n",
    "- 5. create a mapping table as a dataframe\n",
    "\n",
    "## 1. Get a list of all unique product category names"
   ]
  },
  {
   "cell_type": "code",
   "execution_count": 64,
   "metadata": {},
   "outputs": [
    {
     "name": "stdout",
     "output_type": "stream",
     "text": [
      "········\n"
     ]
    }
   ],
   "source": [
    "conn = pymysql.connect(host=\"localhost\",\n",
    "                       port=3306,\n",
    "                       user=\"ironhack\",\n",
    "                       database=\"olist\",\n",
    "                       passwd=getpass.getpass())"
   ]
  },
  {
   "cell_type": "code",
   "execution_count": 66,
   "metadata": {},
   "outputs": [],
   "source": [
    "product_categories = pd.read_sql(\"SELECT DISTINCT product_category_name FROM products WHERE product_category_name IS NOT NULL;\", conn)"
   ]
  },
  {
   "cell_type": "code",
   "execution_count": 81,
   "metadata": {},
   "outputs": [],
   "source": [
    "products_to_translate = product_categories[\"product_category_name\"].str.replace(\"_\", \" \").to_list()"
   ]
  },
  {
   "cell_type": "markdown",
   "metadata": {},
   "source": [
    "1., 2. and 3. done"
   ]
  },
  {
   "cell_type": "markdown",
   "metadata": {},
   "source": [
    "## 4. Translate"
   ]
  },
  {
   "cell_type": "code",
   "execution_count": 83,
   "metadata": {},
   "outputs": [],
   "source": [
    "translated = translate_pt_en(products_to_translate)"
   ]
  },
  {
   "cell_type": "markdown",
   "metadata": {},
   "source": [
    "## 5. Create a translation dataframe"
   ]
  },
  {
   "cell_type": "code",
   "execution_count": 93,
   "metadata": {},
   "outputs": [],
   "source": [
    "translated = [word.replace(\" \", \"_\") for word in translated]"
   ]
  },
  {
   "cell_type": "code",
   "execution_count": 94,
   "metadata": {},
   "outputs": [],
   "source": [
    "product_category_name_translations = product_categories.assign(product_category_name_en=translated)"
   ]
  },
  {
   "cell_type": "code",
   "execution_count": 95,
   "metadata": {},
   "outputs": [
    {
     "data": {
      "text/html": [
       "<div>\n",
       "<style scoped>\n",
       "    .dataframe tbody tr th:only-of-type {\n",
       "        vertical-align: middle;\n",
       "    }\n",
       "\n",
       "    .dataframe tbody tr th {\n",
       "        vertical-align: top;\n",
       "    }\n",
       "\n",
       "    .dataframe thead th {\n",
       "        text-align: right;\n",
       "    }\n",
       "</style>\n",
       "<table border=\"1\" class=\"dataframe\">\n",
       "  <thead>\n",
       "    <tr style=\"text-align: right;\">\n",
       "      <th></th>\n",
       "      <th>product_category_name</th>\n",
       "      <th>product_category_name_en</th>\n",
       "    </tr>\n",
       "  </thead>\n",
       "  <tbody>\n",
       "    <tr>\n",
       "      <th>0</th>\n",
       "      <td>perfumaria</td>\n",
       "      <td>perfumery</td>\n",
       "    </tr>\n",
       "    <tr>\n",
       "      <th>1</th>\n",
       "      <td>artes</td>\n",
       "      <td>arts</td>\n",
       "    </tr>\n",
       "    <tr>\n",
       "      <th>2</th>\n",
       "      <td>esporte_lazer</td>\n",
       "      <td>sport_leisure</td>\n",
       "    </tr>\n",
       "    <tr>\n",
       "      <th>3</th>\n",
       "      <td>bebes</td>\n",
       "      <td>babies</td>\n",
       "    </tr>\n",
       "    <tr>\n",
       "      <th>4</th>\n",
       "      <td>utilidades_domesticas</td>\n",
       "      <td>domestical_utilities</td>\n",
       "    </tr>\n",
       "    <tr>\n",
       "      <th>...</th>\n",
       "      <td>...</td>\n",
       "      <td>...</td>\n",
       "    </tr>\n",
       "    <tr>\n",
       "      <th>68</th>\n",
       "      <td>casa_conforto_2</td>\n",
       "      <td>house_comfort_2</td>\n",
       "    </tr>\n",
       "    <tr>\n",
       "      <th>69</th>\n",
       "      <td>portateis_cozinha_e_preparadores_de_alimentos</td>\n",
       "      <td>portable_cooking_and_food_preparers</td>\n",
       "    </tr>\n",
       "    <tr>\n",
       "      <th>70</th>\n",
       "      <td>seguros_e_servicos</td>\n",
       "      <td>safe_and_servic</td>\n",
       "    </tr>\n",
       "    <tr>\n",
       "      <th>71</th>\n",
       "      <td>moveis_colchao_e_estofado</td>\n",
       "      <td>movable_collchao_and_upholstery</td>\n",
       "    </tr>\n",
       "    <tr>\n",
       "      <th>72</th>\n",
       "      <td>cds_dvds_musicais</td>\n",
       "      <td>cds_dvds_musical</td>\n",
       "    </tr>\n",
       "  </tbody>\n",
       "</table>\n",
       "<p>73 rows × 2 columns</p>\n",
       "</div>"
      ],
      "text/plain": [
       "                            product_category_name  \\\n",
       "0                                      perfumaria   \n",
       "1                                           artes   \n",
       "2                                   esporte_lazer   \n",
       "3                                           bebes   \n",
       "4                           utilidades_domesticas   \n",
       "..                                            ...   \n",
       "68                                casa_conforto_2   \n",
       "69  portateis_cozinha_e_preparadores_de_alimentos   \n",
       "70                             seguros_e_servicos   \n",
       "71                      moveis_colchao_e_estofado   \n",
       "72                              cds_dvds_musicais   \n",
       "\n",
       "               product_category_name_en  \n",
       "0                             perfumery  \n",
       "1                                  arts  \n",
       "2                         sport_leisure  \n",
       "3                                babies  \n",
       "4                  domestical_utilities  \n",
       "..                                  ...  \n",
       "68                      house_comfort_2  \n",
       "69  portable_cooking_and_food_preparers  \n",
       "70                      safe_and_servic  \n",
       "71      movable_collchao_and_upholstery  \n",
       "72                     cds_dvds_musical  \n",
       "\n",
       "[73 rows x 2 columns]"
      ]
     },
     "execution_count": 95,
     "metadata": {},
     "output_type": "execute_result"
    }
   ],
   "source": [
    "product_category_name_translations"
   ]
  }
 ],
 "metadata": {
  "kernelspec": {
   "display_name": "Python 3",
   "language": "python",
   "name": "python3"
  },
  "language_info": {
   "codemirror_mode": {
    "name": "ipython",
    "version": 3
   },
   "file_extension": ".py",
   "mimetype": "text/x-python",
   "name": "python",
   "nbconvert_exporter": "python",
   "pygments_lexer": "ipython3",
   "version": "3.8.3"
  }
 },
 "nbformat": 4,
 "nbformat_minor": 4
}
